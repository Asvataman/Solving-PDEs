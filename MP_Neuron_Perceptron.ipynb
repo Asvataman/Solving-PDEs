{
  "nbformat": 4,
  "nbformat_minor": 0,
  "metadata": {
    "colab": {
      "name": "MP_Neuron/Perceptron.ipynb",
      "provenance": [],
      "collapsed_sections": [
        "4igTuiOA6MQJ",
        "vws5myw7a3rx",
        "uM_ek7fyhqFD",
        "hv47PM0N6CC6",
        "jbKJwRGnscfz",
        "Gm7f4VUZVgPW",
        "MsEq6vmJiYYb",
        "WLy7EEUG6N5d",
        "G81HlUC4pBkI",
        "v2LCZPFcqOq5",
        "WyVv9fqH5Rz4",
        "0fDVQT145V1H",
        "WjxfR05HmIDF",
        "utBRDcCA5ahv"
      ],
      "authorship_tag": "ABX9TyMWuVAJ6SHbvUMaJLxB99jF",
      "include_colab_link": true
    },
    "kernelspec": {
      "name": "python3",
      "display_name": "Python 3"
    }
  },
  "cells": [
    {
      "cell_type": "markdown",
      "metadata": {
        "id": "view-in-github",
        "colab_type": "text"
      },
      "source": [
        "<a href=\"https://colab.research.google.com/github/Asvataman/Solving-PDEs/blob/master/MP_Neuron_Perceptron.ipynb\" target=\"_parent\"><img src=\"https://colab.research.google.com/assets/colab-badge.svg\" alt=\"Open In Colab\"/></a>"
      ]
    },
    {
      "cell_type": "markdown",
      "metadata": {
        "id": "4igTuiOA6MQJ",
        "colab_type": "text"
      },
      "source": [
        "# **Data Preprocessing**"
      ]
    },
    {
      "cell_type": "markdown",
      "metadata": {
        "id": "vws5myw7a3rx",
        "colab_type": "text"
      },
      "source": [
        "## Loading Data"
      ]
    },
    {
      "cell_type": "code",
      "metadata": {
        "id": "yueNKbSUax0y",
        "colab_type": "code",
        "colab": {}
      },
      "source": [
        "import sklearn.datasets                                                         #contains datasets of few common examples and tools to generate data which is used for understanding ML \n",
        "import numpy as np\n",
        "import pandas as pd"
      ],
      "execution_count": 1,
      "outputs": []
    },
    {
      "cell_type": "code",
      "metadata": {
        "id": "Vo_q6WWsbDQW",
        "colab_type": "code",
        "colab": {}
      },
      "source": [
        "breast_cancer = sklearn.datasets.load_breast_cancer()\n",
        "X = breast_cancer.data\n",
        "Y = breast_cancer.target"
      ],
      "execution_count": 2,
      "outputs": []
    },
    {
      "cell_type": "code",
      "metadata": {
        "id": "hrPc9JPpfOuM",
        "colab_type": "code",
        "colab": {
          "base_uri": "https://localhost:8080/",
          "height": 0
        },
        "outputId": "7507835d-a059-4228-ff47-daaea77289d2"
      },
      "source": [
        "print(X)\n",
        "print(Y)\n",
        "print(X.shape, Y.shape)"
      ],
      "execution_count": 3,
      "outputs": [
        {
          "output_type": "stream",
          "text": [
            "[[1.799e+01 1.038e+01 1.228e+02 ... 2.654e-01 4.601e-01 1.189e-01]\n",
            " [2.057e+01 1.777e+01 1.329e+02 ... 1.860e-01 2.750e-01 8.902e-02]\n",
            " [1.969e+01 2.125e+01 1.300e+02 ... 2.430e-01 3.613e-01 8.758e-02]\n",
            " ...\n",
            " [1.660e+01 2.808e+01 1.083e+02 ... 1.418e-01 2.218e-01 7.820e-02]\n",
            " [2.060e+01 2.933e+01 1.401e+02 ... 2.650e-01 4.087e-01 1.240e-01]\n",
            " [7.760e+00 2.454e+01 4.792e+01 ... 0.000e+00 2.871e-01 7.039e-02]]\n",
            "[0 0 0 0 0 0 0 0 0 0 0 0 0 0 0 0 0 0 0 1 1 1 0 0 0 0 0 0 0 0 0 0 0 0 0 0 0\n",
            " 1 0 0 0 0 0 0 0 0 1 0 1 1 1 1 1 0 0 1 0 0 1 1 1 1 0 1 0 0 1 1 1 1 0 1 0 0\n",
            " 1 0 1 0 0 1 1 1 0 0 1 0 0 0 1 1 1 0 1 1 0 0 1 1 1 0 0 1 1 1 1 0 1 1 0 1 1\n",
            " 1 1 1 1 1 1 0 0 0 1 0 0 1 1 1 0 0 1 0 1 0 0 1 0 0 1 1 0 1 1 0 1 1 1 1 0 1\n",
            " 1 1 1 1 1 1 1 1 0 1 1 1 1 0 0 1 0 1 1 0 0 1 1 0 0 1 1 1 1 0 1 1 0 0 0 1 0\n",
            " 1 0 1 1 1 0 1 1 0 0 1 0 0 0 0 1 0 0 0 1 0 1 0 1 1 0 1 0 0 0 0 1 1 0 0 1 1\n",
            " 1 0 1 1 1 1 1 0 0 1 1 0 1 1 0 0 1 0 1 1 1 1 0 1 1 1 1 1 0 1 0 0 0 0 0 0 0\n",
            " 0 0 0 0 0 0 0 1 1 1 1 1 1 0 1 0 1 1 0 1 1 0 1 0 0 1 1 1 1 1 1 1 1 1 1 1 1\n",
            " 1 0 1 1 0 1 0 1 1 1 1 1 1 1 1 1 1 1 1 1 1 0 1 1 1 0 1 0 1 1 1 1 0 0 0 1 1\n",
            " 1 1 0 1 0 1 0 1 1 1 0 1 1 1 1 1 1 1 0 0 0 1 1 1 1 1 1 1 1 1 1 1 0 0 1 0 0\n",
            " 0 1 0 0 1 1 1 1 1 0 1 1 1 1 1 0 1 1 1 0 1 1 0 0 1 1 1 1 1 1 0 1 1 1 1 1 1\n",
            " 1 0 1 1 1 1 1 0 1 1 0 1 1 1 1 1 1 1 1 1 1 1 1 0 1 0 0 1 0 1 1 1 1 1 0 1 1\n",
            " 0 1 0 1 1 0 1 0 1 1 1 1 1 1 1 1 0 0 1 1 1 1 1 1 0 1 1 1 1 1 1 1 1 1 1 0 1\n",
            " 1 1 1 1 1 1 0 1 0 1 1 0 1 1 1 1 1 0 0 1 0 1 0 1 1 1 1 1 0 1 1 0 1 0 1 0 0\n",
            " 1 1 1 0 1 1 1 1 1 1 1 1 1 1 1 0 1 0 0 1 1 1 1 1 1 1 1 1 1 1 1 1 1 1 1 1 1\n",
            " 1 1 1 1 1 1 1 0 0 0 0 0 0 1]\n",
            "(569, 30) (569,)\n"
          ],
          "name": "stdout"
        }
      ]
    },
    {
      "cell_type": "markdown",
      "metadata": {
        "id": "h_rXO1ozfgOZ",
        "colab_type": "text"
      },
      "source": [
        "539 data points and each data contains 30 different features"
      ]
    },
    {
      "cell_type": "code",
      "metadata": {
        "id": "pQFbapvdfcOO",
        "colab_type": "code",
        "colab": {
          "base_uri": "https://localhost:8080/",
          "height": 0
        },
        "outputId": "39b040f9-c4c2-4ce9-9a8b-a860c46b11e4"
      },
      "source": [
        "data = pd.DataFrame(breast_cancer.data , columns= breast_cancer.feature_names)       #Loading data as DataFrame (pandas have easier data processing functions)\n",
        "data['is_cancer_positive'] = breast_cancer.target\n",
        "data.head()"
      ],
      "execution_count": 4,
      "outputs": [
        {
          "output_type": "execute_result",
          "data": {
            "text/html": [
              "<div>\n",
              "<style scoped>\n",
              "    .dataframe tbody tr th:only-of-type {\n",
              "        vertical-align: middle;\n",
              "    }\n",
              "\n",
              "    .dataframe tbody tr th {\n",
              "        vertical-align: top;\n",
              "    }\n",
              "\n",
              "    .dataframe thead th {\n",
              "        text-align: right;\n",
              "    }\n",
              "</style>\n",
              "<table border=\"1\" class=\"dataframe\">\n",
              "  <thead>\n",
              "    <tr style=\"text-align: right;\">\n",
              "      <th></th>\n",
              "      <th>mean radius</th>\n",
              "      <th>mean texture</th>\n",
              "      <th>mean perimeter</th>\n",
              "      <th>mean area</th>\n",
              "      <th>mean smoothness</th>\n",
              "      <th>mean compactness</th>\n",
              "      <th>mean concavity</th>\n",
              "      <th>mean concave points</th>\n",
              "      <th>mean symmetry</th>\n",
              "      <th>mean fractal dimension</th>\n",
              "      <th>radius error</th>\n",
              "      <th>texture error</th>\n",
              "      <th>perimeter error</th>\n",
              "      <th>area error</th>\n",
              "      <th>smoothness error</th>\n",
              "      <th>compactness error</th>\n",
              "      <th>concavity error</th>\n",
              "      <th>concave points error</th>\n",
              "      <th>symmetry error</th>\n",
              "      <th>fractal dimension error</th>\n",
              "      <th>worst radius</th>\n",
              "      <th>worst texture</th>\n",
              "      <th>worst perimeter</th>\n",
              "      <th>worst area</th>\n",
              "      <th>worst smoothness</th>\n",
              "      <th>worst compactness</th>\n",
              "      <th>worst concavity</th>\n",
              "      <th>worst concave points</th>\n",
              "      <th>worst symmetry</th>\n",
              "      <th>worst fractal dimension</th>\n",
              "      <th>is_cancer_positive</th>\n",
              "    </tr>\n",
              "  </thead>\n",
              "  <tbody>\n",
              "    <tr>\n",
              "      <th>0</th>\n",
              "      <td>17.99</td>\n",
              "      <td>10.38</td>\n",
              "      <td>122.80</td>\n",
              "      <td>1001.0</td>\n",
              "      <td>0.11840</td>\n",
              "      <td>0.27760</td>\n",
              "      <td>0.3001</td>\n",
              "      <td>0.14710</td>\n",
              "      <td>0.2419</td>\n",
              "      <td>0.07871</td>\n",
              "      <td>1.0950</td>\n",
              "      <td>0.9053</td>\n",
              "      <td>8.589</td>\n",
              "      <td>153.40</td>\n",
              "      <td>0.006399</td>\n",
              "      <td>0.04904</td>\n",
              "      <td>0.05373</td>\n",
              "      <td>0.01587</td>\n",
              "      <td>0.03003</td>\n",
              "      <td>0.006193</td>\n",
              "      <td>25.38</td>\n",
              "      <td>17.33</td>\n",
              "      <td>184.60</td>\n",
              "      <td>2019.0</td>\n",
              "      <td>0.1622</td>\n",
              "      <td>0.6656</td>\n",
              "      <td>0.7119</td>\n",
              "      <td>0.2654</td>\n",
              "      <td>0.4601</td>\n",
              "      <td>0.11890</td>\n",
              "      <td>0</td>\n",
              "    </tr>\n",
              "    <tr>\n",
              "      <th>1</th>\n",
              "      <td>20.57</td>\n",
              "      <td>17.77</td>\n",
              "      <td>132.90</td>\n",
              "      <td>1326.0</td>\n",
              "      <td>0.08474</td>\n",
              "      <td>0.07864</td>\n",
              "      <td>0.0869</td>\n",
              "      <td>0.07017</td>\n",
              "      <td>0.1812</td>\n",
              "      <td>0.05667</td>\n",
              "      <td>0.5435</td>\n",
              "      <td>0.7339</td>\n",
              "      <td>3.398</td>\n",
              "      <td>74.08</td>\n",
              "      <td>0.005225</td>\n",
              "      <td>0.01308</td>\n",
              "      <td>0.01860</td>\n",
              "      <td>0.01340</td>\n",
              "      <td>0.01389</td>\n",
              "      <td>0.003532</td>\n",
              "      <td>24.99</td>\n",
              "      <td>23.41</td>\n",
              "      <td>158.80</td>\n",
              "      <td>1956.0</td>\n",
              "      <td>0.1238</td>\n",
              "      <td>0.1866</td>\n",
              "      <td>0.2416</td>\n",
              "      <td>0.1860</td>\n",
              "      <td>0.2750</td>\n",
              "      <td>0.08902</td>\n",
              "      <td>0</td>\n",
              "    </tr>\n",
              "    <tr>\n",
              "      <th>2</th>\n",
              "      <td>19.69</td>\n",
              "      <td>21.25</td>\n",
              "      <td>130.00</td>\n",
              "      <td>1203.0</td>\n",
              "      <td>0.10960</td>\n",
              "      <td>0.15990</td>\n",
              "      <td>0.1974</td>\n",
              "      <td>0.12790</td>\n",
              "      <td>0.2069</td>\n",
              "      <td>0.05999</td>\n",
              "      <td>0.7456</td>\n",
              "      <td>0.7869</td>\n",
              "      <td>4.585</td>\n",
              "      <td>94.03</td>\n",
              "      <td>0.006150</td>\n",
              "      <td>0.04006</td>\n",
              "      <td>0.03832</td>\n",
              "      <td>0.02058</td>\n",
              "      <td>0.02250</td>\n",
              "      <td>0.004571</td>\n",
              "      <td>23.57</td>\n",
              "      <td>25.53</td>\n",
              "      <td>152.50</td>\n",
              "      <td>1709.0</td>\n",
              "      <td>0.1444</td>\n",
              "      <td>0.4245</td>\n",
              "      <td>0.4504</td>\n",
              "      <td>0.2430</td>\n",
              "      <td>0.3613</td>\n",
              "      <td>0.08758</td>\n",
              "      <td>0</td>\n",
              "    </tr>\n",
              "    <tr>\n",
              "      <th>3</th>\n",
              "      <td>11.42</td>\n",
              "      <td>20.38</td>\n",
              "      <td>77.58</td>\n",
              "      <td>386.1</td>\n",
              "      <td>0.14250</td>\n",
              "      <td>0.28390</td>\n",
              "      <td>0.2414</td>\n",
              "      <td>0.10520</td>\n",
              "      <td>0.2597</td>\n",
              "      <td>0.09744</td>\n",
              "      <td>0.4956</td>\n",
              "      <td>1.1560</td>\n",
              "      <td>3.445</td>\n",
              "      <td>27.23</td>\n",
              "      <td>0.009110</td>\n",
              "      <td>0.07458</td>\n",
              "      <td>0.05661</td>\n",
              "      <td>0.01867</td>\n",
              "      <td>0.05963</td>\n",
              "      <td>0.009208</td>\n",
              "      <td>14.91</td>\n",
              "      <td>26.50</td>\n",
              "      <td>98.87</td>\n",
              "      <td>567.7</td>\n",
              "      <td>0.2098</td>\n",
              "      <td>0.8663</td>\n",
              "      <td>0.6869</td>\n",
              "      <td>0.2575</td>\n",
              "      <td>0.6638</td>\n",
              "      <td>0.17300</td>\n",
              "      <td>0</td>\n",
              "    </tr>\n",
              "    <tr>\n",
              "      <th>4</th>\n",
              "      <td>20.29</td>\n",
              "      <td>14.34</td>\n",
              "      <td>135.10</td>\n",
              "      <td>1297.0</td>\n",
              "      <td>0.10030</td>\n",
              "      <td>0.13280</td>\n",
              "      <td>0.1980</td>\n",
              "      <td>0.10430</td>\n",
              "      <td>0.1809</td>\n",
              "      <td>0.05883</td>\n",
              "      <td>0.7572</td>\n",
              "      <td>0.7813</td>\n",
              "      <td>5.438</td>\n",
              "      <td>94.44</td>\n",
              "      <td>0.011490</td>\n",
              "      <td>0.02461</td>\n",
              "      <td>0.05688</td>\n",
              "      <td>0.01885</td>\n",
              "      <td>0.01756</td>\n",
              "      <td>0.005115</td>\n",
              "      <td>22.54</td>\n",
              "      <td>16.67</td>\n",
              "      <td>152.20</td>\n",
              "      <td>1575.0</td>\n",
              "      <td>0.1374</td>\n",
              "      <td>0.2050</td>\n",
              "      <td>0.4000</td>\n",
              "      <td>0.1625</td>\n",
              "      <td>0.2364</td>\n",
              "      <td>0.07678</td>\n",
              "      <td>0</td>\n",
              "    </tr>\n",
              "  </tbody>\n",
              "</table>\n",
              "</div>"
            ],
            "text/plain": [
              "   mean radius  mean texture  ...  worst fractal dimension  is_cancer_positive\n",
              "0        17.99         10.38  ...                  0.11890                   0\n",
              "1        20.57         17.77  ...                  0.08902                   0\n",
              "2        19.69         21.25  ...                  0.08758                   0\n",
              "3        11.42         20.38  ...                  0.17300                   0\n",
              "4        20.29         14.34  ...                  0.07678                   0\n",
              "\n",
              "[5 rows x 31 columns]"
            ]
          },
          "metadata": {
            "tags": []
          },
          "execution_count": 4
        }
      ]
    },
    {
      "cell_type": "code",
      "metadata": {
        "id": "6yXrcYTXgqFE",
        "colab_type": "code",
        "colab": {
          "base_uri": "https://localhost:8080/",
          "height": 0
        },
        "outputId": "6d228095-8c2e-4825-fb18-966fe475a2ac"
      },
      "source": [
        "data.describe()"
      ],
      "execution_count": 5,
      "outputs": [
        {
          "output_type": "execute_result",
          "data": {
            "text/html": [
              "<div>\n",
              "<style scoped>\n",
              "    .dataframe tbody tr th:only-of-type {\n",
              "        vertical-align: middle;\n",
              "    }\n",
              "\n",
              "    .dataframe tbody tr th {\n",
              "        vertical-align: top;\n",
              "    }\n",
              "\n",
              "    .dataframe thead th {\n",
              "        text-align: right;\n",
              "    }\n",
              "</style>\n",
              "<table border=\"1\" class=\"dataframe\">\n",
              "  <thead>\n",
              "    <tr style=\"text-align: right;\">\n",
              "      <th></th>\n",
              "      <th>mean radius</th>\n",
              "      <th>mean texture</th>\n",
              "      <th>mean perimeter</th>\n",
              "      <th>mean area</th>\n",
              "      <th>mean smoothness</th>\n",
              "      <th>mean compactness</th>\n",
              "      <th>mean concavity</th>\n",
              "      <th>mean concave points</th>\n",
              "      <th>mean symmetry</th>\n",
              "      <th>mean fractal dimension</th>\n",
              "      <th>radius error</th>\n",
              "      <th>texture error</th>\n",
              "      <th>perimeter error</th>\n",
              "      <th>area error</th>\n",
              "      <th>smoothness error</th>\n",
              "      <th>compactness error</th>\n",
              "      <th>concavity error</th>\n",
              "      <th>concave points error</th>\n",
              "      <th>symmetry error</th>\n",
              "      <th>fractal dimension error</th>\n",
              "      <th>worst radius</th>\n",
              "      <th>worst texture</th>\n",
              "      <th>worst perimeter</th>\n",
              "      <th>worst area</th>\n",
              "      <th>worst smoothness</th>\n",
              "      <th>worst compactness</th>\n",
              "      <th>worst concavity</th>\n",
              "      <th>worst concave points</th>\n",
              "      <th>worst symmetry</th>\n",
              "      <th>worst fractal dimension</th>\n",
              "      <th>is_cancer_positive</th>\n",
              "    </tr>\n",
              "  </thead>\n",
              "  <tbody>\n",
              "    <tr>\n",
              "      <th>count</th>\n",
              "      <td>569.000000</td>\n",
              "      <td>569.000000</td>\n",
              "      <td>569.000000</td>\n",
              "      <td>569.000000</td>\n",
              "      <td>569.000000</td>\n",
              "      <td>569.000000</td>\n",
              "      <td>569.000000</td>\n",
              "      <td>569.000000</td>\n",
              "      <td>569.000000</td>\n",
              "      <td>569.000000</td>\n",
              "      <td>569.000000</td>\n",
              "      <td>569.000000</td>\n",
              "      <td>569.000000</td>\n",
              "      <td>569.000000</td>\n",
              "      <td>569.000000</td>\n",
              "      <td>569.000000</td>\n",
              "      <td>569.000000</td>\n",
              "      <td>569.000000</td>\n",
              "      <td>569.000000</td>\n",
              "      <td>569.000000</td>\n",
              "      <td>569.000000</td>\n",
              "      <td>569.000000</td>\n",
              "      <td>569.000000</td>\n",
              "      <td>569.000000</td>\n",
              "      <td>569.000000</td>\n",
              "      <td>569.000000</td>\n",
              "      <td>569.000000</td>\n",
              "      <td>569.000000</td>\n",
              "      <td>569.000000</td>\n",
              "      <td>569.000000</td>\n",
              "      <td>569.000000</td>\n",
              "    </tr>\n",
              "    <tr>\n",
              "      <th>mean</th>\n",
              "      <td>14.127292</td>\n",
              "      <td>19.289649</td>\n",
              "      <td>91.969033</td>\n",
              "      <td>654.889104</td>\n",
              "      <td>0.096360</td>\n",
              "      <td>0.104341</td>\n",
              "      <td>0.088799</td>\n",
              "      <td>0.048919</td>\n",
              "      <td>0.181162</td>\n",
              "      <td>0.062798</td>\n",
              "      <td>0.405172</td>\n",
              "      <td>1.216853</td>\n",
              "      <td>2.866059</td>\n",
              "      <td>40.337079</td>\n",
              "      <td>0.007041</td>\n",
              "      <td>0.025478</td>\n",
              "      <td>0.031894</td>\n",
              "      <td>0.011796</td>\n",
              "      <td>0.020542</td>\n",
              "      <td>0.003795</td>\n",
              "      <td>16.269190</td>\n",
              "      <td>25.677223</td>\n",
              "      <td>107.261213</td>\n",
              "      <td>880.583128</td>\n",
              "      <td>0.132369</td>\n",
              "      <td>0.254265</td>\n",
              "      <td>0.272188</td>\n",
              "      <td>0.114606</td>\n",
              "      <td>0.290076</td>\n",
              "      <td>0.083946</td>\n",
              "      <td>0.627417</td>\n",
              "    </tr>\n",
              "    <tr>\n",
              "      <th>std</th>\n",
              "      <td>3.524049</td>\n",
              "      <td>4.301036</td>\n",
              "      <td>24.298981</td>\n",
              "      <td>351.914129</td>\n",
              "      <td>0.014064</td>\n",
              "      <td>0.052813</td>\n",
              "      <td>0.079720</td>\n",
              "      <td>0.038803</td>\n",
              "      <td>0.027414</td>\n",
              "      <td>0.007060</td>\n",
              "      <td>0.277313</td>\n",
              "      <td>0.551648</td>\n",
              "      <td>2.021855</td>\n",
              "      <td>45.491006</td>\n",
              "      <td>0.003003</td>\n",
              "      <td>0.017908</td>\n",
              "      <td>0.030186</td>\n",
              "      <td>0.006170</td>\n",
              "      <td>0.008266</td>\n",
              "      <td>0.002646</td>\n",
              "      <td>4.833242</td>\n",
              "      <td>6.146258</td>\n",
              "      <td>33.602542</td>\n",
              "      <td>569.356993</td>\n",
              "      <td>0.022832</td>\n",
              "      <td>0.157336</td>\n",
              "      <td>0.208624</td>\n",
              "      <td>0.065732</td>\n",
              "      <td>0.061867</td>\n",
              "      <td>0.018061</td>\n",
              "      <td>0.483918</td>\n",
              "    </tr>\n",
              "    <tr>\n",
              "      <th>min</th>\n",
              "      <td>6.981000</td>\n",
              "      <td>9.710000</td>\n",
              "      <td>43.790000</td>\n",
              "      <td>143.500000</td>\n",
              "      <td>0.052630</td>\n",
              "      <td>0.019380</td>\n",
              "      <td>0.000000</td>\n",
              "      <td>0.000000</td>\n",
              "      <td>0.106000</td>\n",
              "      <td>0.049960</td>\n",
              "      <td>0.111500</td>\n",
              "      <td>0.360200</td>\n",
              "      <td>0.757000</td>\n",
              "      <td>6.802000</td>\n",
              "      <td>0.001713</td>\n",
              "      <td>0.002252</td>\n",
              "      <td>0.000000</td>\n",
              "      <td>0.000000</td>\n",
              "      <td>0.007882</td>\n",
              "      <td>0.000895</td>\n",
              "      <td>7.930000</td>\n",
              "      <td>12.020000</td>\n",
              "      <td>50.410000</td>\n",
              "      <td>185.200000</td>\n",
              "      <td>0.071170</td>\n",
              "      <td>0.027290</td>\n",
              "      <td>0.000000</td>\n",
              "      <td>0.000000</td>\n",
              "      <td>0.156500</td>\n",
              "      <td>0.055040</td>\n",
              "      <td>0.000000</td>\n",
              "    </tr>\n",
              "    <tr>\n",
              "      <th>25%</th>\n",
              "      <td>11.700000</td>\n",
              "      <td>16.170000</td>\n",
              "      <td>75.170000</td>\n",
              "      <td>420.300000</td>\n",
              "      <td>0.086370</td>\n",
              "      <td>0.064920</td>\n",
              "      <td>0.029560</td>\n",
              "      <td>0.020310</td>\n",
              "      <td>0.161900</td>\n",
              "      <td>0.057700</td>\n",
              "      <td>0.232400</td>\n",
              "      <td>0.833900</td>\n",
              "      <td>1.606000</td>\n",
              "      <td>17.850000</td>\n",
              "      <td>0.005169</td>\n",
              "      <td>0.013080</td>\n",
              "      <td>0.015090</td>\n",
              "      <td>0.007638</td>\n",
              "      <td>0.015160</td>\n",
              "      <td>0.002248</td>\n",
              "      <td>13.010000</td>\n",
              "      <td>21.080000</td>\n",
              "      <td>84.110000</td>\n",
              "      <td>515.300000</td>\n",
              "      <td>0.116600</td>\n",
              "      <td>0.147200</td>\n",
              "      <td>0.114500</td>\n",
              "      <td>0.064930</td>\n",
              "      <td>0.250400</td>\n",
              "      <td>0.071460</td>\n",
              "      <td>0.000000</td>\n",
              "    </tr>\n",
              "    <tr>\n",
              "      <th>50%</th>\n",
              "      <td>13.370000</td>\n",
              "      <td>18.840000</td>\n",
              "      <td>86.240000</td>\n",
              "      <td>551.100000</td>\n",
              "      <td>0.095870</td>\n",
              "      <td>0.092630</td>\n",
              "      <td>0.061540</td>\n",
              "      <td>0.033500</td>\n",
              "      <td>0.179200</td>\n",
              "      <td>0.061540</td>\n",
              "      <td>0.324200</td>\n",
              "      <td>1.108000</td>\n",
              "      <td>2.287000</td>\n",
              "      <td>24.530000</td>\n",
              "      <td>0.006380</td>\n",
              "      <td>0.020450</td>\n",
              "      <td>0.025890</td>\n",
              "      <td>0.010930</td>\n",
              "      <td>0.018730</td>\n",
              "      <td>0.003187</td>\n",
              "      <td>14.970000</td>\n",
              "      <td>25.410000</td>\n",
              "      <td>97.660000</td>\n",
              "      <td>686.500000</td>\n",
              "      <td>0.131300</td>\n",
              "      <td>0.211900</td>\n",
              "      <td>0.226700</td>\n",
              "      <td>0.099930</td>\n",
              "      <td>0.282200</td>\n",
              "      <td>0.080040</td>\n",
              "      <td>1.000000</td>\n",
              "    </tr>\n",
              "    <tr>\n",
              "      <th>75%</th>\n",
              "      <td>15.780000</td>\n",
              "      <td>21.800000</td>\n",
              "      <td>104.100000</td>\n",
              "      <td>782.700000</td>\n",
              "      <td>0.105300</td>\n",
              "      <td>0.130400</td>\n",
              "      <td>0.130700</td>\n",
              "      <td>0.074000</td>\n",
              "      <td>0.195700</td>\n",
              "      <td>0.066120</td>\n",
              "      <td>0.478900</td>\n",
              "      <td>1.474000</td>\n",
              "      <td>3.357000</td>\n",
              "      <td>45.190000</td>\n",
              "      <td>0.008146</td>\n",
              "      <td>0.032450</td>\n",
              "      <td>0.042050</td>\n",
              "      <td>0.014710</td>\n",
              "      <td>0.023480</td>\n",
              "      <td>0.004558</td>\n",
              "      <td>18.790000</td>\n",
              "      <td>29.720000</td>\n",
              "      <td>125.400000</td>\n",
              "      <td>1084.000000</td>\n",
              "      <td>0.146000</td>\n",
              "      <td>0.339100</td>\n",
              "      <td>0.382900</td>\n",
              "      <td>0.161400</td>\n",
              "      <td>0.317900</td>\n",
              "      <td>0.092080</td>\n",
              "      <td>1.000000</td>\n",
              "    </tr>\n",
              "    <tr>\n",
              "      <th>max</th>\n",
              "      <td>28.110000</td>\n",
              "      <td>39.280000</td>\n",
              "      <td>188.500000</td>\n",
              "      <td>2501.000000</td>\n",
              "      <td>0.163400</td>\n",
              "      <td>0.345400</td>\n",
              "      <td>0.426800</td>\n",
              "      <td>0.201200</td>\n",
              "      <td>0.304000</td>\n",
              "      <td>0.097440</td>\n",
              "      <td>2.873000</td>\n",
              "      <td>4.885000</td>\n",
              "      <td>21.980000</td>\n",
              "      <td>542.200000</td>\n",
              "      <td>0.031130</td>\n",
              "      <td>0.135400</td>\n",
              "      <td>0.396000</td>\n",
              "      <td>0.052790</td>\n",
              "      <td>0.078950</td>\n",
              "      <td>0.029840</td>\n",
              "      <td>36.040000</td>\n",
              "      <td>49.540000</td>\n",
              "      <td>251.200000</td>\n",
              "      <td>4254.000000</td>\n",
              "      <td>0.222600</td>\n",
              "      <td>1.058000</td>\n",
              "      <td>1.252000</td>\n",
              "      <td>0.291000</td>\n",
              "      <td>0.663800</td>\n",
              "      <td>0.207500</td>\n",
              "      <td>1.000000</td>\n",
              "    </tr>\n",
              "  </tbody>\n",
              "</table>\n",
              "</div>"
            ],
            "text/plain": [
              "       mean radius  mean texture  ...  worst fractal dimension  is_cancer_positive\n",
              "count   569.000000    569.000000  ...               569.000000          569.000000\n",
              "mean     14.127292     19.289649  ...                 0.083946            0.627417\n",
              "std       3.524049      4.301036  ...                 0.018061            0.483918\n",
              "min       6.981000      9.710000  ...                 0.055040            0.000000\n",
              "25%      11.700000     16.170000  ...                 0.071460            0.000000\n",
              "50%      13.370000     18.840000  ...                 0.080040            1.000000\n",
              "75%      15.780000     21.800000  ...                 0.092080            1.000000\n",
              "max      28.110000     39.280000  ...                 0.207500            1.000000\n",
              "\n",
              "[8 rows x 31 columns]"
            ]
          },
          "metadata": {
            "tags": []
          },
          "execution_count": 5
        }
      ]
    },
    {
      "cell_type": "code",
      "metadata": {
        "id": "au8RPZG2g14j",
        "colab_type": "code",
        "colab": {
          "base_uri": "https://localhost:8080/",
          "height": 0
        },
        "outputId": "4f49e822-19f4-4384-a839-83fb05acba26"
      },
      "source": [
        "print(data['is_cancer_positive'].value_counts())                                #To see how the data is biased. This data contains more positve cases than negative"
      ],
      "execution_count": 6,
      "outputs": [
        {
          "output_type": "stream",
          "text": [
            "1    357\n",
            "0    212\n",
            "Name: is_cancer_positive, dtype: int64\n"
          ],
          "name": "stdout"
        }
      ]
    },
    {
      "cell_type": "code",
      "metadata": {
        "id": "rhu49jbDhET4",
        "colab_type": "code",
        "colab": {
          "base_uri": "https://localhost:8080/",
          "height": 0
        },
        "outputId": "5a9346ff-6542-45da-ffc6-6d6e8a808a39"
      },
      "source": [
        "data.groupby('is_cancer_positive').mean()"
      ],
      "execution_count": 7,
      "outputs": [
        {
          "output_type": "execute_result",
          "data": {
            "text/html": [
              "<div>\n",
              "<style scoped>\n",
              "    .dataframe tbody tr th:only-of-type {\n",
              "        vertical-align: middle;\n",
              "    }\n",
              "\n",
              "    .dataframe tbody tr th {\n",
              "        vertical-align: top;\n",
              "    }\n",
              "\n",
              "    .dataframe thead th {\n",
              "        text-align: right;\n",
              "    }\n",
              "</style>\n",
              "<table border=\"1\" class=\"dataframe\">\n",
              "  <thead>\n",
              "    <tr style=\"text-align: right;\">\n",
              "      <th></th>\n",
              "      <th>mean radius</th>\n",
              "      <th>mean texture</th>\n",
              "      <th>mean perimeter</th>\n",
              "      <th>mean area</th>\n",
              "      <th>mean smoothness</th>\n",
              "      <th>mean compactness</th>\n",
              "      <th>mean concavity</th>\n",
              "      <th>mean concave points</th>\n",
              "      <th>mean symmetry</th>\n",
              "      <th>mean fractal dimension</th>\n",
              "      <th>radius error</th>\n",
              "      <th>texture error</th>\n",
              "      <th>perimeter error</th>\n",
              "      <th>area error</th>\n",
              "      <th>smoothness error</th>\n",
              "      <th>compactness error</th>\n",
              "      <th>concavity error</th>\n",
              "      <th>concave points error</th>\n",
              "      <th>symmetry error</th>\n",
              "      <th>fractal dimension error</th>\n",
              "      <th>worst radius</th>\n",
              "      <th>worst texture</th>\n",
              "      <th>worst perimeter</th>\n",
              "      <th>worst area</th>\n",
              "      <th>worst smoothness</th>\n",
              "      <th>worst compactness</th>\n",
              "      <th>worst concavity</th>\n",
              "      <th>worst concave points</th>\n",
              "      <th>worst symmetry</th>\n",
              "      <th>worst fractal dimension</th>\n",
              "    </tr>\n",
              "    <tr>\n",
              "      <th>is_cancer_positive</th>\n",
              "      <th></th>\n",
              "      <th></th>\n",
              "      <th></th>\n",
              "      <th></th>\n",
              "      <th></th>\n",
              "      <th></th>\n",
              "      <th></th>\n",
              "      <th></th>\n",
              "      <th></th>\n",
              "      <th></th>\n",
              "      <th></th>\n",
              "      <th></th>\n",
              "      <th></th>\n",
              "      <th></th>\n",
              "      <th></th>\n",
              "      <th></th>\n",
              "      <th></th>\n",
              "      <th></th>\n",
              "      <th></th>\n",
              "      <th></th>\n",
              "      <th></th>\n",
              "      <th></th>\n",
              "      <th></th>\n",
              "      <th></th>\n",
              "      <th></th>\n",
              "      <th></th>\n",
              "      <th></th>\n",
              "      <th></th>\n",
              "      <th></th>\n",
              "      <th></th>\n",
              "    </tr>\n",
              "  </thead>\n",
              "  <tbody>\n",
              "    <tr>\n",
              "      <th>0</th>\n",
              "      <td>17.462830</td>\n",
              "      <td>21.604906</td>\n",
              "      <td>115.365377</td>\n",
              "      <td>978.376415</td>\n",
              "      <td>0.102898</td>\n",
              "      <td>0.145188</td>\n",
              "      <td>0.160775</td>\n",
              "      <td>0.087990</td>\n",
              "      <td>0.192909</td>\n",
              "      <td>0.062680</td>\n",
              "      <td>0.609083</td>\n",
              "      <td>1.210915</td>\n",
              "      <td>4.323929</td>\n",
              "      <td>72.672406</td>\n",
              "      <td>0.006780</td>\n",
              "      <td>0.032281</td>\n",
              "      <td>0.041824</td>\n",
              "      <td>0.015060</td>\n",
              "      <td>0.020472</td>\n",
              "      <td>0.004062</td>\n",
              "      <td>21.134811</td>\n",
              "      <td>29.318208</td>\n",
              "      <td>141.370330</td>\n",
              "      <td>1422.286321</td>\n",
              "      <td>0.144845</td>\n",
              "      <td>0.374824</td>\n",
              "      <td>0.450606</td>\n",
              "      <td>0.182237</td>\n",
              "      <td>0.323468</td>\n",
              "      <td>0.091530</td>\n",
              "    </tr>\n",
              "    <tr>\n",
              "      <th>1</th>\n",
              "      <td>12.146524</td>\n",
              "      <td>17.914762</td>\n",
              "      <td>78.075406</td>\n",
              "      <td>462.790196</td>\n",
              "      <td>0.092478</td>\n",
              "      <td>0.080085</td>\n",
              "      <td>0.046058</td>\n",
              "      <td>0.025717</td>\n",
              "      <td>0.174186</td>\n",
              "      <td>0.062867</td>\n",
              "      <td>0.284082</td>\n",
              "      <td>1.220380</td>\n",
              "      <td>2.000321</td>\n",
              "      <td>21.135148</td>\n",
              "      <td>0.007196</td>\n",
              "      <td>0.021438</td>\n",
              "      <td>0.025997</td>\n",
              "      <td>0.009858</td>\n",
              "      <td>0.020584</td>\n",
              "      <td>0.003636</td>\n",
              "      <td>13.379801</td>\n",
              "      <td>23.515070</td>\n",
              "      <td>87.005938</td>\n",
              "      <td>558.899440</td>\n",
              "      <td>0.124959</td>\n",
              "      <td>0.182673</td>\n",
              "      <td>0.166238</td>\n",
              "      <td>0.074444</td>\n",
              "      <td>0.270246</td>\n",
              "      <td>0.079442</td>\n",
              "    </tr>\n",
              "  </tbody>\n",
              "</table>\n",
              "</div>"
            ],
            "text/plain": [
              "                    mean radius  ...  worst fractal dimension\n",
              "is_cancer_positive               ...                         \n",
              "0                     17.462830  ...                 0.091530\n",
              "1                     12.146524  ...                 0.079442\n",
              "\n",
              "[2 rows x 30 columns]"
            ]
          },
          "metadata": {
            "tags": []
          },
          "execution_count": 7
        }
      ]
    },
    {
      "cell_type": "markdown",
      "metadata": {
        "id": "uM_ek7fyhqFD",
        "colab_type": "text"
      },
      "source": [
        "## Train and Test Spilt"
      ]
    },
    {
      "cell_type": "code",
      "metadata": {
        "id": "-UNG4Rh5hSeB",
        "colab_type": "code",
        "colab": {}
      },
      "source": [
        "from sklearn.model_selection import train_test_split"
      ],
      "execution_count": 8,
      "outputs": []
    },
    {
      "cell_type": "code",
      "metadata": {
        "id": "dzTSFGZ_iBur",
        "colab_type": "code",
        "colab": {}
      },
      "source": [
        "X = data.drop('is_cancer_positive', axis = 1)                                   # Creates X (Input data) with the output column removed\n",
        "Y = data['is_cancer_positive']                                                  # Creates Y (Output data) as 'is_cancer_positve' column"
      ],
      "execution_count": 9,
      "outputs": []
    },
    {
      "cell_type": "code",
      "metadata": {
        "id": "_xKw7YidigbW",
        "colab_type": "code",
        "colab": {
          "base_uri": "https://localhost:8080/",
          "height": 0
        },
        "outputId": "db01a8b0-aa3d-4612-935b-575bfa1dadf7"
      },
      "source": [
        "X.head()"
      ],
      "execution_count": 10,
      "outputs": [
        {
          "output_type": "execute_result",
          "data": {
            "text/html": [
              "<div>\n",
              "<style scoped>\n",
              "    .dataframe tbody tr th:only-of-type {\n",
              "        vertical-align: middle;\n",
              "    }\n",
              "\n",
              "    .dataframe tbody tr th {\n",
              "        vertical-align: top;\n",
              "    }\n",
              "\n",
              "    .dataframe thead th {\n",
              "        text-align: right;\n",
              "    }\n",
              "</style>\n",
              "<table border=\"1\" class=\"dataframe\">\n",
              "  <thead>\n",
              "    <tr style=\"text-align: right;\">\n",
              "      <th></th>\n",
              "      <th>mean radius</th>\n",
              "      <th>mean texture</th>\n",
              "      <th>mean perimeter</th>\n",
              "      <th>mean area</th>\n",
              "      <th>mean smoothness</th>\n",
              "      <th>mean compactness</th>\n",
              "      <th>mean concavity</th>\n",
              "      <th>mean concave points</th>\n",
              "      <th>mean symmetry</th>\n",
              "      <th>mean fractal dimension</th>\n",
              "      <th>radius error</th>\n",
              "      <th>texture error</th>\n",
              "      <th>perimeter error</th>\n",
              "      <th>area error</th>\n",
              "      <th>smoothness error</th>\n",
              "      <th>compactness error</th>\n",
              "      <th>concavity error</th>\n",
              "      <th>concave points error</th>\n",
              "      <th>symmetry error</th>\n",
              "      <th>fractal dimension error</th>\n",
              "      <th>worst radius</th>\n",
              "      <th>worst texture</th>\n",
              "      <th>worst perimeter</th>\n",
              "      <th>worst area</th>\n",
              "      <th>worst smoothness</th>\n",
              "      <th>worst compactness</th>\n",
              "      <th>worst concavity</th>\n",
              "      <th>worst concave points</th>\n",
              "      <th>worst symmetry</th>\n",
              "      <th>worst fractal dimension</th>\n",
              "    </tr>\n",
              "  </thead>\n",
              "  <tbody>\n",
              "    <tr>\n",
              "      <th>0</th>\n",
              "      <td>17.99</td>\n",
              "      <td>10.38</td>\n",
              "      <td>122.80</td>\n",
              "      <td>1001.0</td>\n",
              "      <td>0.11840</td>\n",
              "      <td>0.27760</td>\n",
              "      <td>0.3001</td>\n",
              "      <td>0.14710</td>\n",
              "      <td>0.2419</td>\n",
              "      <td>0.07871</td>\n",
              "      <td>1.0950</td>\n",
              "      <td>0.9053</td>\n",
              "      <td>8.589</td>\n",
              "      <td>153.40</td>\n",
              "      <td>0.006399</td>\n",
              "      <td>0.04904</td>\n",
              "      <td>0.05373</td>\n",
              "      <td>0.01587</td>\n",
              "      <td>0.03003</td>\n",
              "      <td>0.006193</td>\n",
              "      <td>25.38</td>\n",
              "      <td>17.33</td>\n",
              "      <td>184.60</td>\n",
              "      <td>2019.0</td>\n",
              "      <td>0.1622</td>\n",
              "      <td>0.6656</td>\n",
              "      <td>0.7119</td>\n",
              "      <td>0.2654</td>\n",
              "      <td>0.4601</td>\n",
              "      <td>0.11890</td>\n",
              "    </tr>\n",
              "    <tr>\n",
              "      <th>1</th>\n",
              "      <td>20.57</td>\n",
              "      <td>17.77</td>\n",
              "      <td>132.90</td>\n",
              "      <td>1326.0</td>\n",
              "      <td>0.08474</td>\n",
              "      <td>0.07864</td>\n",
              "      <td>0.0869</td>\n",
              "      <td>0.07017</td>\n",
              "      <td>0.1812</td>\n",
              "      <td>0.05667</td>\n",
              "      <td>0.5435</td>\n",
              "      <td>0.7339</td>\n",
              "      <td>3.398</td>\n",
              "      <td>74.08</td>\n",
              "      <td>0.005225</td>\n",
              "      <td>0.01308</td>\n",
              "      <td>0.01860</td>\n",
              "      <td>0.01340</td>\n",
              "      <td>0.01389</td>\n",
              "      <td>0.003532</td>\n",
              "      <td>24.99</td>\n",
              "      <td>23.41</td>\n",
              "      <td>158.80</td>\n",
              "      <td>1956.0</td>\n",
              "      <td>0.1238</td>\n",
              "      <td>0.1866</td>\n",
              "      <td>0.2416</td>\n",
              "      <td>0.1860</td>\n",
              "      <td>0.2750</td>\n",
              "      <td>0.08902</td>\n",
              "    </tr>\n",
              "    <tr>\n",
              "      <th>2</th>\n",
              "      <td>19.69</td>\n",
              "      <td>21.25</td>\n",
              "      <td>130.00</td>\n",
              "      <td>1203.0</td>\n",
              "      <td>0.10960</td>\n",
              "      <td>0.15990</td>\n",
              "      <td>0.1974</td>\n",
              "      <td>0.12790</td>\n",
              "      <td>0.2069</td>\n",
              "      <td>0.05999</td>\n",
              "      <td>0.7456</td>\n",
              "      <td>0.7869</td>\n",
              "      <td>4.585</td>\n",
              "      <td>94.03</td>\n",
              "      <td>0.006150</td>\n",
              "      <td>0.04006</td>\n",
              "      <td>0.03832</td>\n",
              "      <td>0.02058</td>\n",
              "      <td>0.02250</td>\n",
              "      <td>0.004571</td>\n",
              "      <td>23.57</td>\n",
              "      <td>25.53</td>\n",
              "      <td>152.50</td>\n",
              "      <td>1709.0</td>\n",
              "      <td>0.1444</td>\n",
              "      <td>0.4245</td>\n",
              "      <td>0.4504</td>\n",
              "      <td>0.2430</td>\n",
              "      <td>0.3613</td>\n",
              "      <td>0.08758</td>\n",
              "    </tr>\n",
              "    <tr>\n",
              "      <th>3</th>\n",
              "      <td>11.42</td>\n",
              "      <td>20.38</td>\n",
              "      <td>77.58</td>\n",
              "      <td>386.1</td>\n",
              "      <td>0.14250</td>\n",
              "      <td>0.28390</td>\n",
              "      <td>0.2414</td>\n",
              "      <td>0.10520</td>\n",
              "      <td>0.2597</td>\n",
              "      <td>0.09744</td>\n",
              "      <td>0.4956</td>\n",
              "      <td>1.1560</td>\n",
              "      <td>3.445</td>\n",
              "      <td>27.23</td>\n",
              "      <td>0.009110</td>\n",
              "      <td>0.07458</td>\n",
              "      <td>0.05661</td>\n",
              "      <td>0.01867</td>\n",
              "      <td>0.05963</td>\n",
              "      <td>0.009208</td>\n",
              "      <td>14.91</td>\n",
              "      <td>26.50</td>\n",
              "      <td>98.87</td>\n",
              "      <td>567.7</td>\n",
              "      <td>0.2098</td>\n",
              "      <td>0.8663</td>\n",
              "      <td>0.6869</td>\n",
              "      <td>0.2575</td>\n",
              "      <td>0.6638</td>\n",
              "      <td>0.17300</td>\n",
              "    </tr>\n",
              "    <tr>\n",
              "      <th>4</th>\n",
              "      <td>20.29</td>\n",
              "      <td>14.34</td>\n",
              "      <td>135.10</td>\n",
              "      <td>1297.0</td>\n",
              "      <td>0.10030</td>\n",
              "      <td>0.13280</td>\n",
              "      <td>0.1980</td>\n",
              "      <td>0.10430</td>\n",
              "      <td>0.1809</td>\n",
              "      <td>0.05883</td>\n",
              "      <td>0.7572</td>\n",
              "      <td>0.7813</td>\n",
              "      <td>5.438</td>\n",
              "      <td>94.44</td>\n",
              "      <td>0.011490</td>\n",
              "      <td>0.02461</td>\n",
              "      <td>0.05688</td>\n",
              "      <td>0.01885</td>\n",
              "      <td>0.01756</td>\n",
              "      <td>0.005115</td>\n",
              "      <td>22.54</td>\n",
              "      <td>16.67</td>\n",
              "      <td>152.20</td>\n",
              "      <td>1575.0</td>\n",
              "      <td>0.1374</td>\n",
              "      <td>0.2050</td>\n",
              "      <td>0.4000</td>\n",
              "      <td>0.1625</td>\n",
              "      <td>0.2364</td>\n",
              "      <td>0.07678</td>\n",
              "    </tr>\n",
              "  </tbody>\n",
              "</table>\n",
              "</div>"
            ],
            "text/plain": [
              "   mean radius  mean texture  ...  worst symmetry  worst fractal dimension\n",
              "0        17.99         10.38  ...          0.4601                  0.11890\n",
              "1        20.57         17.77  ...          0.2750                  0.08902\n",
              "2        19.69         21.25  ...          0.3613                  0.08758\n",
              "3        11.42         20.38  ...          0.6638                  0.17300\n",
              "4        20.29         14.34  ...          0.2364                  0.07678\n",
              "\n",
              "[5 rows x 30 columns]"
            ]
          },
          "metadata": {
            "tags": []
          },
          "execution_count": 10
        }
      ]
    },
    {
      "cell_type": "code",
      "metadata": {
        "id": "0dbpH9PUiitV",
        "colab_type": "code",
        "colab": {
          "base_uri": "https://localhost:8080/",
          "height": 0
        },
        "outputId": "8e4305e9-ae2f-4a00-a78a-20b9b2b1f7dc"
      },
      "source": [
        "Y.head()"
      ],
      "execution_count": 11,
      "outputs": [
        {
          "output_type": "execute_result",
          "data": {
            "text/plain": [
              "0    0\n",
              "1    0\n",
              "2    0\n",
              "3    0\n",
              "4    0\n",
              "Name: is_cancer_positive, dtype: int64"
            ]
          },
          "metadata": {
            "tags": []
          },
          "execution_count": 11
        }
      ]
    },
    {
      "cell_type": "code",
      "metadata": {
        "id": "LIXEjq-kikW5",
        "colab_type": "code",
        "colab": {}
      },
      "source": [
        "X_train, X_test, Y_train, Y_test = train_test_split(X,Y)                        #spliting data as training and test data"
      ],
      "execution_count": 12,
      "outputs": []
    },
    {
      "cell_type": "code",
      "metadata": {
        "id": "B5uQD0aSi3m8",
        "colab_type": "code",
        "colab": {
          "base_uri": "https://localhost:8080/",
          "height": 0
        },
        "outputId": "00fd0bdf-355d-4cbc-bdb7-3660e549adc0"
      },
      "source": [
        "print(X.shape, X_train.shape, Y.shape, Y_train.shape)"
      ],
      "execution_count": 13,
      "outputs": [
        {
          "output_type": "stream",
          "text": [
            "(569, 30) (426, 30) (569,) (426,)\n"
          ],
          "name": "stdout"
        }
      ]
    },
    {
      "cell_type": "markdown",
      "metadata": {
        "id": "_KLupyb3qDXm",
        "colab_type": "text"
      },
      "source": [
        "This above function splits the data randomly each time. But this is not desired as we need same Train and Test data when we reproduce this. To get same data split everytime set the random_state to a constant.( Each Randomness has a state in computer).\n",
        "\n",
        "    X_train, X_test, Y_train, Y_test = train_test_split(X, Y, random_state = 1)  #it can be any integer"
      ]
    },
    {
      "cell_type": "code",
      "metadata": {
        "id": "oSVwDyqrjCqq",
        "colab_type": "code",
        "colab": {}
      },
      "source": [
        "X_train, X_test, Y_train, Y_test = train_test_split(X,Y, test_size = 0.1, random_state = 1)         #By default test_size = o.1"
      ],
      "execution_count": 14,
      "outputs": []
    },
    {
      "cell_type": "code",
      "metadata": {
        "id": "g4ARArCyjZz_",
        "colab_type": "code",
        "colab": {
          "base_uri": "https://localhost:8080/",
          "height": 0
        },
        "outputId": "2a4bd715-767c-41ea-ad50-5d997f0ffb68"
      },
      "source": [
        "print(X.shape, X_train.shape, Y.shape, Y_train.shape)                           #As we have used the same spliting ratio as the default the is no change in dimension "
      ],
      "execution_count": 15,
      "outputs": [
        {
          "output_type": "stream",
          "text": [
            "(569, 30) (512, 30) (569,) (512,)\n"
          ],
          "name": "stdout"
        }
      ]
    },
    {
      "cell_type": "code",
      "metadata": {
        "id": "eceQA1A2j7fp",
        "colab_type": "code",
        "colab": {
          "base_uri": "https://localhost:8080/",
          "height": 0
        },
        "outputId": "0ea6ee12-53b6-4163-e703-159e51afacf9"
      },
      "source": [
        "print(Y.mean(), Y_train.mean(), Y_test.mean())"
      ],
      "execution_count": 16,
      "outputs": [
        {
          "output_type": "stream",
          "text": [
            "0.6274165202108963 0.630859375 0.5964912280701754\n"
          ],
          "name": "stdout"
        }
      ]
    },
    {
      "cell_type": "markdown",
      "metadata": {
        "id": "asaWnU7ukxKi",
        "colab_type": "text"
      },
      "source": [
        "***As we can see the mean of test and train is not close to the mean of original data. If they vary largely(+/- 0.3) use the following***\n",
        "\n",
        "\n",
        "    X_train, X_test, Y_train, Y_test = train_test_split(X,Y, test_size = 0.05, stratify = Y)\n"
      ]
    },
    {
      "cell_type": "code",
      "metadata": {
        "id": "4oVlOpl7kdab",
        "colab_type": "code",
        "colab": {}
      },
      "source": [
        "X_train, X_test, Y_train, Y_test = train_test_split(X,Y, test_size = 0.05, stratify = Y, random_state = 1)"
      ],
      "execution_count": 17,
      "outputs": []
    },
    {
      "cell_type": "code",
      "metadata": {
        "id": "is12834csSJB",
        "colab_type": "code",
        "colab": {
          "base_uri": "https://localhost:8080/",
          "height": 0
        },
        "outputId": "9697b07f-b926-401c-c092-281511f6234a"
      },
      "source": [
        "print(Y.mean(), Y_train.mean(), Y_test.mean())                                  # Note that the mean of the data splited resembles the original data            "
      ],
      "execution_count": 18,
      "outputs": [
        {
          "output_type": "stream",
          "text": [
            "0.6274165202108963 0.6277777777777778 0.6206896551724138\n"
          ],
          "name": "stdout"
        }
      ]
    },
    {
      "cell_type": "markdown",
      "metadata": {
        "id": "hv47PM0N6CC6",
        "colab_type": "text"
      },
      "source": [
        "# **MP Neuron**"
      ]
    },
    {
      "cell_type": "markdown",
      "metadata": {
        "id": "N4N6rB2nVqln",
        "colab_type": "text"
      },
      "source": [
        "![image.png](data:image/png;base64,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)"
      ]
    },
    {
      "cell_type": "markdown",
      "metadata": {
        "id": "cTC6fXuzI7w5",
        "colab_type": "text"
      },
      "source": [
        "$$ g(x_1, x_2, x_3, ....., x_n) = g(X) = \\sum_{i=1}^{n}x_i \\hspace{.5cm} ,x \\hspace{.25cm}\\epsilon\\hspace{.25cm} \\{0,1\\}$$\n",
        "\n",
        "$ y =  1 \\hspace{.5cm}if\\hspace{.5cm}g(x) \\geq b $\n",
        "\n",
        "$y = 0\\hspace{.5cm}if \\hspace{.5cm}g(x)<b $\n",
        "\n",
        "$where \\hspace{.25cm} b\\hspace{.25cm} \\epsilon\\hspace{.25cm}[0, n] $\n",
        "\n",
        "We need to learn the optimal value of $b$"
      ]
    },
    {
      "cell_type": "markdown",
      "metadata": {
        "id": "jbKJwRGnscfz",
        "colab_type": "text"
      },
      "source": [
        "## Binarisation\n",
        "    "
      ]
    },
    {
      "cell_type": "markdown",
      "metadata": {
        "id": "ZGpJ9k8tAI35",
        "colab_type": "text"
      },
      "source": [
        "**The data given is in real numbers or Strings, whereas MP Neuron takes only BOOLEAN values( 0 or 1) as input. Converting or Transforming data to binary form is Binarisation.**"
      ]
    },
    {
      "cell_type": "code",
      "metadata": {
        "id": "tRzRGCljsUN8",
        "colab_type": "code",
        "colab": {
          "base_uri": "https://localhost:8080/",
          "height": 70
        },
        "outputId": "d58f86f1-9125-4dde-baf1-c0c7c84b9feb"
      },
      "source": [
        "import matplotlib.pyplot as plt\n",
        "import seaborn as sns"
      ],
      "execution_count": 19,
      "outputs": [
        {
          "output_type": "stream",
          "text": [
            "/usr/local/lib/python3.6/dist-packages/statsmodels/tools/_testing.py:19: FutureWarning: pandas.util.testing is deprecated. Use the functions in the public API at pandas.testing instead.\n",
            "  import pandas.util.testing as tm\n"
          ],
          "name": "stderr"
        }
      ]
    },
    {
      "cell_type": "code",
      "metadata": {
        "id": "yPyoSoCpsjS9",
        "colab_type": "code",
        "colab": {
          "base_uri": "https://localhost:8080/",
          "height": 268
        },
        "outputId": "d1c19818-0f60-4870-9d36-fc413c09feb9"
      },
      "source": [
        "sns.set()\n",
        "plt.plot(X_train,'*')\n",
        "plt.show()                                        "
      ],
      "execution_count": 20,
      "outputs": [
        {
          "output_type": "display_data",
          "data": {
            "image/png": "[encoded data removed]",
            "text/plain": [
              "<Figure size 432x288 with 1 Axes>"
            ]
          },
          "metadata": {
            "tags": []
          }
        }
      ]
    },
    {
      "cell_type": "markdown",
      "metadata": {
        "id": "zrGZq5WvJ9GO",
        "colab_type": "text"
      },
      "source": [
        "As this graph is not easy to visualise. Let us Plot X transpose to see feature wise  variation"
      ]
    },
    {
      "cell_type": "code",
      "metadata": {
        "id": "U4Qqeiclsy5a",
        "colab_type": "code",
        "colab": {
          "base_uri": "https://localhost:8080/",
          "height": 268
        },
        "outputId": "55d37724-a851-41b9-d9a2-e7659f7463f2"
      },
      "source": [
        "plt.plot(X_train.T,'*')\n",
        "plt.show()    "
      ],
      "execution_count": 21,
      "outputs": [
        {
          "output_type": "display_data",
          "data": {
            "image/png": "[encoded data removed]",
            "text/plain": [
              "<Figure size 432x288 with 1 Axes>"
            ]
          },
          "metadata": {
            "tags": []
          }
        }
      ]
    },
    {
      "cell_type": "markdown",
      "metadata": {
        "id": "f0rvwLi-KUJg",
        "colab_type": "text"
      },
      "source": [
        "The lables in x axis are overlapped. Lets  Fix that"
      ]
    },
    {
      "cell_type": "code",
      "metadata": {
        "id": "Y4fsZyBNKSLj",
        "colab_type": "code",
        "colab": {
          "base_uri": "https://localhost:8080/",
          "height": 389
        },
        "outputId": "3ac5e61d-90d5-4384-d6aa-c322a154bf72"
      },
      "source": [
        "plt.plot(X_train.T,'*')\n",
        "plt.xticks(rotation = 'vertical')\n",
        "plt.show()    "
      ],
      "execution_count": 22,
      "outputs": [
        {
          "output_type": "display_data",
          "data": {
            "image/png": "[encoded data removed]",
            "text/plain": [
              "<Figure size 432x288 with 1 Axes>"
            ]
          },
          "metadata": {
            "tags": []
          }
        }
      ]
    },
    {
      "cell_type": "markdown",
      "metadata": {
        "id": "WPGwrXcxLI2I",
        "colab_type": "text"
      },
      "source": [
        "We can see that the columns take range of values. We binarise it with mean of the data i.e. set it 1 if more than mean , to 0 when less than or equal to mean"
      ]
    },
    {
      "cell_type": "code",
      "metadata": {
        "id": "GU2Ws74_LHvh",
        "colab_type": "code",
        "colab": {
          "base_uri": "https://localhost:8080/",
          "height": 389
        },
        "outputId": "c05ec46b-6cb2-4112-d654-e61e1fe80e70"
      },
      "source": [
        "X_binarised_train = X_train.apply(pd.cut, bins = 2, labels = [0,1])\n",
        "plt.plot(X_binarised_train.T,'*')\n",
        "plt.xticks(rotation = 'vertical')\n",
        "plt.show()    "
      ],
      "execution_count": 23,
      "outputs": [
        {
          "output_type": "display_data",
          "data": {
            "image/png": "[encoded data removed]",
            "text/plain": [
              "<Figure size 432x288 with 1 Axes>"
            ]
          },
          "metadata": {
            "tags": []
          }
        }
      ]
    },
    {
      "cell_type": "code",
      "metadata": {
        "id": "Ri_CMVEnMmhl",
        "colab_type": "code",
        "colab": {
          "base_uri": "https://localhost:8080/",
          "height": 34
        },
        "outputId": "954798f4-3171-480c-df50-e376b983cfd8"
      },
      "source": [
        "X_binarised_test = X_test.apply(pd.cut, bins = 2, labels = [0,1])     \n",
        "type(X_binarised_train)           # Binarising Test data"
      ],
      "execution_count": 24,
      "outputs": [
        {
          "output_type": "execute_result",
          "data": {
            "text/plain": [
              "pandas.core.frame.DataFrame"
            ]
          },
          "metadata": {
            "tags": []
          },
          "execution_count": 24
        }
      ]
    },
    {
      "cell_type": "markdown",
      "metadata": {
        "id": "SUYbG5zGNhCy",
        "colab_type": "text"
      },
      "source": [
        "We will convert it back to numpy array as we have completed data processing"
      ]
    },
    {
      "cell_type": "code",
      "metadata": {
        "id": "jW6rXTyuMz6N",
        "colab_type": "code",
        "colab": {
          "base_uri": "https://localhost:8080/",
          "height": 34
        },
        "outputId": "86333286-93d3-4961-ed2d-5436655f4df4"
      },
      "source": [
        "X_binarised_train = X_binarised_train.values\n",
        "X_binarised_test = X_binarised_test.values\n",
        "print(type(X_binarised_train), type(X_binarised_test))"
      ],
      "execution_count": 25,
      "outputs": [
        {
          "output_type": "stream",
          "text": [
            "<class 'numpy.ndarray'> <class 'numpy.ndarray'>\n"
          ],
          "name": "stdout"
        }
      ]
    },
    {
      "cell_type": "markdown",
      "metadata": {
        "id": "Gm7f4VUZVgPW",
        "colab_type": "text"
      },
      "source": [
        "## MP Neuron"
      ]
    },
    {
      "cell_type": "code",
      "metadata": {
        "id": "2iEk3CCVN0-D",
        "colab_type": "code",
        "colab": {
          "base_uri": "https://localhost:8080/",
          "height": 538
        },
        "outputId": "d0e36e11-788a-4a69-d7a1-9336ff2a01a2"
      },
      "source": [
        "for b in range(X_binarised_train.shape[1] + 1):                                 # b ϵ [0,n]\n",
        "  Y_pred_train = []\n",
        "  accurate_rows = 0\n",
        "\n",
        "  for x, y in zip(X_binarised_train, Y_train):\n",
        "    y_pred = (np.sum(x) >= b)                                                   # Calculating prediction as sum of all x values in a row\n",
        "    Y_pred_train.append(y_pred)                                                 # Appending it to y Predection\n",
        "    accurate_rows += (y == y_pred)                                              # Calculating number of accurate predictions\n",
        "\n",
        "  print(b, accurate_rows/X_binarised_train.shape[0])  "
      ],
      "execution_count": 26,
      "outputs": [
        {
          "output_type": "stream",
          "text": [
            "0 0.6277777777777778\n",
            "1 0.24074074074074073\n",
            "2 0.1814814814814815\n",
            "3 0.15\n",
            "4 0.15185185185185185\n",
            "5 0.1685185185185185\n",
            "6 0.2\n",
            "7 0.23148148148148148\n",
            "8 0.26296296296296295\n",
            "9 0.29259259259259257\n",
            "10 0.3111111111111111\n",
            "11 0.3296296296296296\n",
            "12 0.3388888888888889\n",
            "13 0.3425925925925926\n",
            "14 0.35185185185185186\n",
            "15 0.35555555555555557\n",
            "16 0.36666666666666664\n",
            "17 0.3685185185185185\n",
            "18 0.37037037037037035\n",
            "19 0.37222222222222223\n",
            "20 0.37222222222222223\n",
            "21 0.37222222222222223\n",
            "22 0.37222222222222223\n",
            "23 0.37222222222222223\n",
            "24 0.37222222222222223\n",
            "25 0.37222222222222223\n",
            "26 0.37222222222222223\n",
            "27 0.37222222222222223\n",
            "28 0.37222222222222223\n",
            "29 0.37222222222222223\n",
            "30 0.37222222222222223\n"
          ],
          "name": "stdout"
        }
      ]
    },
    {
      "cell_type": "markdown",
      "metadata": {
        "id": "U5Sz83uOZDDy",
        "colab_type": "text"
      },
      "source": [
        "The accuracy is high when b is zero. That means when we predict it as positive always we get better results. This is because of two reasons:\n",
        "\n",
        "1. The number of positive cases is high in the data\n",
        "\n",
        "2. The x takes Larger value when it is negative. But in our binarisation we assign x to be 1 when it is larger. As MP neuron does not have weight as feature and b cannot be negative. We face this issue.\n",
        "\n",
        "We can correct this by binarising lower values as 1 and larger values as 0"
      ]
    },
    {
      "cell_type": "code",
      "metadata": {
        "id": "e-38-FDzY_ug",
        "colab_type": "code",
        "colab": {}
      },
      "source": [
        "X_binarised_train = X_train.apply(pd.cut, bins = 2, labels = [1,0])             # Note that the labels are changed as [1,0]\n",
        "X_binarised_test = X_test.apply(pd.cut, bins = 2, labels = [1,0])  \n",
        "X_binarised_train = X_binarised_train.values\n",
        "X_binarised_test = X_binarised_test.values"
      ],
      "execution_count": 27,
      "outputs": []
    },
    {
      "cell_type": "code",
      "metadata": {
        "id": "iZT1jlftaw6P",
        "colab_type": "code",
        "colab": {
          "base_uri": "https://localhost:8080/",
          "height": 538
        },
        "outputId": "5bcc4fea-7ef9-4539-98ad-7ad9f6b23eb8"
      },
      "source": [
        "for b in range(X_binarised_train.shape[1] + 1):                                 # b ϵ [0,n]\n",
        "  Y_pred_train = []\n",
        "  accurate_rows = 0\n",
        "\n",
        "  for x, y in zip(X_binarised_train, Y_train):\n",
        "    y_pred = (np.sum(x) >= b)                                                   # Calculating prediction as sum of all x values in a row\n",
        "    Y_pred_train.append(y_pred)                                                 # Appending it to y Predection\n",
        "    accurate_rows += (y == y_pred)                                              # Calculating number of accurate predictions\n",
        "\n",
        "  print(b, accurate_rows/X_binarised_train.shape[0])  "
      ],
      "execution_count": 28,
      "outputs": [
        {
          "output_type": "stream",
          "text": [
            "0 0.6277777777777778\n",
            "1 0.6277777777777778\n",
            "2 0.6277777777777778\n",
            "3 0.6277777777777778\n",
            "4 0.6277777777777778\n",
            "5 0.6277777777777778\n",
            "6 0.6277777777777778\n",
            "7 0.6277777777777778\n",
            "8 0.6277777777777778\n",
            "9 0.6277777777777778\n",
            "10 0.6277777777777778\n",
            "11 0.6277777777777778\n",
            "12 0.6277777777777778\n",
            "13 0.6296296296296297\n",
            "14 0.6314814814814815\n",
            "15 0.6333333333333333\n",
            "16 0.6444444444444445\n",
            "17 0.6481481481481481\n",
            "18 0.6574074074074074\n",
            "19 0.6611111111111111\n",
            "20 0.6703703703703704\n",
            "21 0.6888888888888889\n",
            "22 0.7074074074074074\n",
            "23 0.737037037037037\n",
            "24 0.7685185185185185\n",
            "25 0.8\n",
            "26 0.8314814814814815\n",
            "27 0.8481481481481481\n",
            "28 0.85\n",
            "29 0.8185185185185185\n",
            "30 0.7592592592592593\n"
          ],
          "name": "stdout"
        }
      ]
    },
    {
      "cell_type": "markdown",
      "metadata": {
        "id": "NV2h8zM-bEII",
        "colab_type": "text"
      },
      "source": [
        "Now we can see that when b is 28 we have maximum accuracy. But this accuracy is in train data. To check that it is consistent we need to check  with the test data"
      ]
    },
    {
      "cell_type": "markdown",
      "metadata": {
        "id": "c4dDzUTecOpM",
        "colab_type": "text"
      },
      "source": [
        "And let us use sklearns accuracy function"
      ]
    },
    {
      "cell_type": "code",
      "metadata": {
        "id": "gIGXXvlUcUiZ",
        "colab_type": "code",
        "colab": {}
      },
      "source": [
        "from sklearn.metrics import accuracy_score"
      ],
      "execution_count": 29,
      "outputs": []
    },
    {
      "cell_type": "code",
      "metadata": {
        "id": "oa-CDVJHa06B",
        "colab_type": "code",
        "colab": {
          "base_uri": "https://localhost:8080/",
          "height": 34
        },
        "outputId": "c00ad6e5-8373-4944-bcda-4f75ef52eead"
      },
      "source": [
        "b = 28                                                                          # b = 28\n",
        "Y_pred_test = []                                                                # Note that we are working on test data\n",
        "\n",
        "for x in X_binarised_test:\n",
        "  y_pred = (np.sum(x) >= b)                                                     # Calculating prediction as sum of all x values in a row\n",
        "  Y_pred_test.append(y_pred)                                                    # Appending it to y Predection\n",
        "                                                                                # Calculating number of accurate predictions\n",
        "accuracy = accuracy_score(Y_pred_test, Y_test)\n",
        "print(accuracy)  "
      ],
      "execution_count": 30,
      "outputs": [
        {
          "output_type": "stream",
          "text": [
            "0.7586206896551724\n"
          ],
          "name": "stdout"
        }
      ]
    },
    {
      "cell_type": "markdown",
      "metadata": {
        "id": "RpY5R_FzdUcA",
        "colab_type": "text"
      },
      "source": [
        "We can see that the accuracy is less when we predict on test data. Note that there maybe a 'b' value for which the accuracy is higher in the test data. But that is out of our control. We test on the training data and evaluvate its accuracy on the test data"
      ]
    },
    {
      "cell_type": "markdown",
      "metadata": {
        "id": "MsEq6vmJiYYb",
        "colab_type": "text"
      },
      "source": [
        "## MP neuron class"
      ]
    },
    {
      "cell_type": "code",
      "metadata": {
        "id": "t0T-h7-UdMoN",
        "colab_type": "code",
        "colab": {}
      },
      "source": [
        "class MPNeuron:\n",
        "\n",
        "  def __init__(self):                           # init is initialisation function, it is with two underscores , self sends the assignment variable(a = fun()...self passes a to the function)\n",
        "    self.b = None\n",
        "\n",
        "  def model(self, x):\n",
        "    return(sum(x) >= self.b)                    # Function which returns 1 if it is greater than b 0 otherwise\n",
        "\n",
        "  def predict(self, X):                         # Function to pridict the Y \n",
        "    Y = []\n",
        "    for x in X:\n",
        "      result = self.model(x)\n",
        "      Y.append(result)\n",
        "    return np.array(Y)\n",
        "\n",
        "  def fit(self, X, Y):                          # Function to find the best value of b\n",
        "    accuracy = {}\n",
        "\n",
        "    for b in range(X.shape[1] + 1 ):\n",
        "      self.b = b\n",
        "      Y_pred = self.predict(X)\n",
        "      accuracy[b] = accuracy_score(Y_pred, Y)\n",
        "\n",
        "    best_b = max(accuracy, key = accuracy.get)\n",
        "    self.b = best_b\n",
        "    \n",
        "    print('Optimal value of b is', best_b)\n",
        "    print('Highest accuracy is', accuracy[best_b])"
      ],
      "execution_count": 31,
      "outputs": []
    },
    {
      "cell_type": "code",
      "metadata": {
        "id": "1_R1BglWls_a",
        "colab_type": "code",
        "colab": {
          "base_uri": "https://localhost:8080/",
          "height": 0
        },
        "outputId": "fef274c8-7887-4f3c-db70-e219f67841f4"
      },
      "source": [
        "mp_neuron = MPNeuron()\n",
        "mp_neuron.fit(X_binarised_train,Y_train)"
      ],
      "execution_count": 32,
      "outputs": [
        {
          "output_type": "stream",
          "text": [
            "Optimal value of b is 28\n",
            "Highest accuracy is 0.85\n"
          ],
          "name": "stdout"
        }
      ]
    },
    {
      "cell_type": "code",
      "metadata": {
        "id": "dI1DfDDdl-pG",
        "colab_type": "code",
        "colab": {}
      },
      "source": [
        "Y_pred_test = mp_neuron.predict(X_binarised_test)\n",
        "accuracy_test = accuracy_score(Y_pred_test, Y_test)"
      ],
      "execution_count": 33,
      "outputs": []
    },
    {
      "cell_type": "code",
      "metadata": {
        "id": "VI0T2uYlmgNo",
        "colab_type": "code",
        "colab": {
          "base_uri": "https://localhost:8080/",
          "height": 0
        },
        "outputId": "2f5c5fc0-22b9-4397-9161-e0eeec484a0d"
      },
      "source": [
        "print(accuracy_test)"
      ],
      "execution_count": 34,
      "outputs": [
        {
          "output_type": "stream",
          "text": [
            "0.7586206896551724\n"
          ],
          "name": "stdout"
        }
      ]
    },
    {
      "cell_type": "markdown",
      "metadata": {
        "id": "WLy7EEUG6N5d",
        "colab_type": "text"
      },
      "source": [
        "# **Perceptron**"
      ]
    },
    {
      "cell_type": "markdown",
      "metadata": {
        "id": "WrYQixPm6ULS",
        "colab_type": "text"
      },
      "source": [
        "$$y = 1, \\mbox{if }\\sum_{i=1}^{n} w_i x_i\\geq b$$\n",
        "\n",
        "$$y = 0 , \\mbox{if }\\sum_{i=1}^{n} w_i x_i<b$$\n",
        "\n",
        "    1. In Perceptron the inputs are real inputs and each input has a real weight and the threshold b is also real.\n",
        "\n",
        "    2. The output is still binary.\n",
        "\n",
        "    3. As the inputs are real we need to normalise them otherwise some inputs may contribute more due to its magnitude.\n"
      ]
    },
    {
      "cell_type": "markdown",
      "metadata": {
        "id": "G81HlUC4pBkI",
        "colab_type": "text"
      },
      "source": [
        "## Data Preparation."
      ]
    },
    {
      "cell_type": "code",
      "metadata": {
        "id": "XhkQvQ7Ro2xC",
        "colab_type": "code",
        "colab": {}
      },
      "source": [
        "from sklearn import preprocessing"
      ],
      "execution_count": 35,
      "outputs": []
    },
    {
      "cell_type": "code",
      "metadata": {
        "id": "X0KqjC0upsuh",
        "colab_type": "code",
        "colab": {}
      },
      "source": [
        "X_train_Normalized = preprocessing.normalize(X_train.values, norm = 'max')\n",
        "X_test_Normalized = preprocessing.normalize(X_test.values, norm = 'max')"
      ],
      "execution_count": 36,
      "outputs": []
    },
    {
      "cell_type": "markdown",
      "metadata": {
        "id": "v2LCZPFcqOq5",
        "colab_type": "text"
      },
      "source": [
        "##Perceptron Learning Algorithm"
      ]
    },
    {
      "cell_type": "markdown",
      "metadata": {
        "id": "ltDOkYhvNrj0",
        "colab_type": "text"
      },
      "source": [
        "\n",
        "Lets us rewrite the above equation as follows:\n",
        "\n",
        "$$y = 1, \\mbox{if }\\sum_{i=1}^{n} w_i x_i - b \\geq 0$$\n",
        "\n",
        "$$y = 0 , \\mbox{if }\\sum_{i=1}^{n} w_i x_i-b<0$$\n",
        "\n",
        "We can further rewrite it as:\n",
        "$$y = 1, \\mbox{if }\\sum_{i=0}^{n} w_i x_i\\geq 0$$\n",
        "\n",
        "$$y = 0 , \\mbox{if }\\sum_{i=0}^{n} w_i x_i<0$$\n",
        "\n",
        "$$\\mbox{where } w_0 = -b\\mbox{ and }x_0 = 1$$"
      ]
    },
    {
      "cell_type": "markdown",
      "metadata": {
        "id": "9A9YNNv9ZUU1",
        "colab_type": "text"
      },
      "source": [
        "As we know dot of two vector martix is similar to the above equation. We can think of them as vectors $W$ and $X$.\n",
        "\n",
        "Note that $w_0  = -b$ \n",
        "\n",
        "Now we will assume random values for $W$ and predict the $y$ values.\n",
        "\n",
        "  1. When $y_{pred} = 1\\hspace{.5cm}  \\& \\hspace{.5cm} y = 0 \\hspace{.35cm}$that means we need to shift the weights vector towards negative side slowly.\n",
        "  2. When $y_{pred} = 0\\hspace{.5cm}  \\& \\hspace{.5cm} y = 1 \\hspace{.35cm}$that means we need to shift the weights vector towards positive side slowly.\n",
        "\n",
        "We can achieve this by doing this:\n",
        "\n",
        "  1. $W = W - X\\hspace{.5cm}$ for case 1\n",
        "  2. $W = W + X\\hspace{.5cm}$ for case 2\n"
      ]
    },
    {
      "cell_type": "code",
      "metadata": {
        "id": "mSZN30db6Q8T",
        "colab_type": "code",
        "colab": {}
      },
      "source": [
        "  class Perceptron:\n",
        "\n",
        "    def __init__(self):                                                         #initialising w and b\n",
        "      self.w = None\n",
        "      self.b = None\n",
        "\n",
        "    def model(self, x):\n",
        "      return 1 if(np.dot(self.w, x) >= self.b) else 0\n",
        "\n",
        "    def predict(self, X):\n",
        "      Y = []\n",
        "      for x in X:\n",
        "        result = self.model(x)\n",
        "        Y.append(result)\n",
        "      return np.array(Y)  \n",
        "    \n",
        "    def fit(self, X, Y,):\n",
        "      self.w = np.ones(X.shape[1])\n",
        "      self.b = 0\n",
        "\n",
        "      for x, y in zip(X, Y):\n",
        "        y_pred = self.model(x)\n",
        "        if y == 1 and y_pred == 0:\n",
        "          self.w = self.w + x                                                   #Learning algorithm\n",
        "          self.b = self.b -1\n",
        "        elif y == 0 and y_pred == 1:\n",
        "          self.w = self.w - x\n",
        "          self.b = self.b + 1\n",
        "\n"
      ],
      "execution_count": 37,
      "outputs": []
    },
    {
      "cell_type": "code",
      "metadata": {
        "id": "aJeNL-Yhi39X",
        "colab_type": "code",
        "colab": {
          "base_uri": "https://localhost:8080/",
          "height": 50
        },
        "outputId": "670c09c4-f201-420d-e79d-a907225c0581"
      },
      "source": [
        "perceptron = Perceptron()\n",
        "perceptron.fit(X_train_Normalized,Y_train)\n",
        "Y_pred_train = perceptron.predict(X_train_Normalized)\n",
        "print(accuracy_score(Y_pred_train,Y_train))\n",
        "Y_pred_test = perceptron.predict(X_test_Normalized)\n",
        "print(accuracy_score(Y_pred_test,Y_test))"
      ],
      "execution_count": 38,
      "outputs": [
        {
          "output_type": "stream",
          "text": [
            "0.7518518518518519\n",
            "0.6896551724137931\n"
          ],
          "name": "stdout"
        }
      ]
    },
    {
      "cell_type": "markdown",
      "metadata": {
        "id": "WyVv9fqH5Rz4",
        "colab_type": "text"
      },
      "source": [
        "## Epochs"
      ]
    },
    {
      "cell_type": "markdown",
      "metadata": {
        "id": "bwQWtpNevtka",
        "colab_type": "text"
      },
      "source": [
        "1. We can see that the accuracy is not significantly satisfying. As we use a learning algorithm we need more iteration so that we can get better $W$ and $b$\n",
        "\n",
        "2. Running through the data once is called epoch.\n",
        "\n",
        "3. Let us now iterate fit function\n",
        "\n"
      ]
    },
    {
      "cell_type": "code",
      "metadata": {
        "id": "JoGnIbzzi_dG",
        "colab_type": "code",
        "colab": {}
      },
      "source": [
        "  class Perceptron:\n",
        "\n",
        "    def __init__(self):                                                         #initialising w and b\n",
        "      self.w = None\n",
        "      self.b = None\n",
        "\n",
        "    def model(self, x):\n",
        "      return 1 if(np.dot(self.w, x) >= self.b) else 0\n",
        "\n",
        "    def predict(self, X):\n",
        "      Y = []\n",
        "      for x in X:\n",
        "        result = self.model(x)\n",
        "        Y.append(result)\n",
        "      return np.array(Y)  \n",
        "    \n",
        "    def fit(self, X, Y, epochs = 1):\n",
        "\n",
        "      self.w = np.ones(X.shape[1])\n",
        "      self.b = 0\n",
        "      \n",
        "      accuracy_perceptron = []\n",
        "\n",
        "      for i in range(epochs):\n",
        "        for x, y in zip(X, Y):\n",
        "            y_pred = self.model(x)\n",
        "            if y == 1 and y_pred == 0:\n",
        "              self.w = self.w + x                                                   #Learning algorithm\n",
        "              self.b = self.b -1\n",
        "            elif y == 0 and y_pred == 1:\n",
        "              self.w = self.w - x\n",
        "              self.b = self.b + 1\n",
        "        accuracy_perceptron.append(accuracy_score(self.predict(X),Y))\n",
        "\n",
        "      plt.plot(accuracy_perceptron)\n",
        "      plt.show() \n"
      ],
      "execution_count": 39,
      "outputs": []
    },
    {
      "cell_type": "code",
      "metadata": {
        "id": "EUHEWWVty68S",
        "colab_type": "code",
        "colab": {
          "base_uri": "https://localhost:8080/",
          "height": 268
        },
        "outputId": "2c13ea57-c2ef-4bf2-eafa-97bc650c9027"
      },
      "source": [
        "perceptron = Perceptron()\n",
        "perceptron.fit(X_train_Normalized,Y_train, 1000)\n"
      ],
      "execution_count": 40,
      "outputs": [
        {
          "output_type": "display_data",
          "data": {
            "image/png": "[encoded data removed]",
            "text/plain": [
              "<Figure size 432x288 with 1 Axes>"
            ]
          },
          "metadata": {
            "tags": []
          }
        }
      ]
    },
    {
      "cell_type": "code",
      "metadata": {
        "colab_type": "code",
        "id": "TWZK178krKii",
        "colab": {
          "base_uri": "https://localhost:8080/",
          "height": 34
        },
        "outputId": "4084b2a9-a3c9-4d42-fb53-a33679c6e758"
      },
      "source": [
        "Y_pred_test = perceptron.predict(X_test_Normalized)\n",
        "print(accuracy_score(Y_pred_test,Y_test))"
      ],
      "execution_count": 41,
      "outputs": [
        {
          "output_type": "stream",
          "text": [
            "0.8275862068965517\n"
          ],
          "name": "stdout"
        }
      ]
    },
    {
      "cell_type": "markdown",
      "metadata": {
        "id": "0fDVQT145V1H",
        "colab_type": "text"
      },
      "source": [
        "## Checkpoints"
      ]
    },
    {
      "cell_type": "markdown",
      "metadata": {
        "id": "AC2g-gMW0BAS",
        "colab_type": "text"
      },
      "source": [
        "We observe that the accuracy of the model keep oscillating\n",
        "\n",
        "But it reached a better value than the value at the last epoch.\n",
        "\n",
        "Now we will implement Checkpointing at max accuracy to avoid this problem"
      ]
    },
    {
      "cell_type": "code",
      "metadata": {
        "colab_type": "code",
        "id": "AXWHum1x1Odg",
        "colab": {}
      },
      "source": [
        "  class Perceptron:\n",
        "\n",
        "    def __init__(self):                                                         #initialising w and b\n",
        "      self.w = None\n",
        "      self.b = None\n",
        "\n",
        "    def model(self, x):\n",
        "      return 1 if(np.dot(self.w, x) >= self.b) else 0\n",
        "\n",
        "    def predict(self, X):\n",
        "      Y = []\n",
        "      for x in X:\n",
        "        result = self.model(x)\n",
        "        Y.append(result)\n",
        "      return np.array(Y)  \n",
        "    \n",
        "    def fit(self, X, Y, epochs = 1):\n",
        "\n",
        "      self.w = np.ones(X.shape[1])\n",
        "      self.b = 0\n",
        "\n",
        "      accuracy_perceptron = []\n",
        "      max_accuracy_perceptron =  0                                              # For calculating max accuracy\n",
        "\n",
        "      for i in range(epochs):\n",
        "        for x, y in zip(X, Y):\n",
        "            y_pred = self.model(x)\n",
        "            if y == 1 and y_pred == 0:\n",
        "              self.w = self.w + x                                                   \n",
        "              self.b = self.b -1\n",
        "            elif y == 0 and y_pred == 1:\n",
        "              self.w = self.w - x\n",
        "              self.b = self.b + 1\n",
        "\n",
        "        accuracy_perceptron.append(accuracy_score(self.predict(X),Y))\n",
        "        if(accuracy_perceptron[i] > max_accuracy_perceptron):                      # Updating max accuracy\n",
        "          max_accuracy_perceptron = accuracy_perceptron[i]\n",
        "          chkpt_w = self.w\n",
        "          chkpt_b = self.b\n",
        "\n",
        "      self.w = chkpt_w\n",
        "      self.b = chkpt_b\n",
        "      print('Maximum Accuracy = ', max_accuracy_perceptron)\n",
        "\n",
        "      plt.plot(accuracy_perceptron)\n",
        "      plt.show() "
      ],
      "execution_count": 42,
      "outputs": []
    },
    {
      "cell_type": "code",
      "metadata": {
        "colab_type": "code",
        "id": "jYce5DoV3yUM",
        "colab": {
          "base_uri": "https://localhost:8080/",
          "height": 285
        },
        "outputId": "7b7e571c-e5dd-40ca-ff7e-c3eb213caeb5"
      },
      "source": [
        "perceptron = Perceptron()\n",
        "perceptron.fit(X_train_Normalized,Y_train, 1000)"
      ],
      "execution_count": 43,
      "outputs": [
        {
          "output_type": "stream",
          "text": [
            "Maximum Accuracy =  0.9277777777777778\n"
          ],
          "name": "stdout"
        },
        {
          "output_type": "display_data",
          "data": {
            "image/png": "[encoded data removed]",
            "text/plain": [
              "<Figure size 432x288 with 1 Axes>"
            ]
          },
          "metadata": {
            "tags": []
          }
        }
      ]
    },
    {
      "cell_type": "code",
      "metadata": {
        "colab_type": "code",
        "id": "zSdga4f8rI3I",
        "colab": {
          "base_uri": "https://localhost:8080/",
          "height": 34
        },
        "outputId": "77c65a95-e89b-4936-e600-7c8573d6608c"
      },
      "source": [
        "Y_pred_test = perceptron.predict(X_test_Normalized)\n",
        "print(accuracy_score(Y_pred_test,Y_test))"
      ],
      "execution_count": 44,
      "outputs": [
        {
          "output_type": "stream",
          "text": [
            "0.896551724137931\n"
          ],
          "name": "stdout"
        }
      ]
    },
    {
      "cell_type": "markdown",
      "metadata": {
        "id": "WjxfR05HmIDF",
        "colab_type": "text"
      },
      "source": [
        "## Learning rate"
      ]
    },
    {
      "cell_type": "markdown",
      "metadata": {
        "id": "76FsTkhgnpr9",
        "colab_type": "text"
      },
      "source": [
        "As we can see that the acccuracy is oscillating this may sometimes lead divergence. To prevent that we multiply the $X$ with a constant between $[0,1]$ to smoothen the curve. This constant is called as **Learning Rate.** "
      ]
    },
    {
      "cell_type": "code",
      "metadata": {
        "colab_type": "code",
        "id": "XkAdnvaKoxCW",
        "colab": {}
      },
      "source": [
        "  class Perceptron:\n",
        "\n",
        "    def __init__(self):                                                         #initialising w and b\n",
        "      self.w = None\n",
        "      self.b = None\n",
        "\n",
        "    def model(self, x):\n",
        "      return 1 if(np.dot(self.w, x) >= self.b) else 0\n",
        "\n",
        "    def predict(self, X):\n",
        "      Y = []\n",
        "      for x in X:\n",
        "        result = self.model(x)\n",
        "        Y.append(result)\n",
        "      return np.array(Y)  \n",
        "    \n",
        "    def fit(self, X, Y, epochs = 1, lr = 1):\n",
        "\n",
        "      self.w = np.ones(X.shape[1])\n",
        "      self.b = 0\n",
        "\n",
        "      accuracy_perceptron = []\n",
        "      max_accuracy_perceptron =  0                                              # For calculating max accuracy\n",
        "\n",
        "      for i in range(epochs):\n",
        "        for x, y in zip(X, Y):\n",
        "            y_pred = self.model(x)\n",
        "            if y == 1 and y_pred == 0:\n",
        "              self.w = self.w + lr * x                                               #lr is learning rate    \n",
        "              self.b = self.b - lr * 1\n",
        "            elif y == 0 and y_pred == 1:\n",
        "              self.w = self.w - lr * x\n",
        "              self.b = self.b + lr * 1\n",
        "\n",
        "        accuracy_perceptron.append(accuracy_score(self.predict(X),Y))\n",
        "        if(accuracy_perceptron[i] > max_accuracy_perceptron):                      # Updating max accuracy\n",
        "          max_accuracy_perceptron = accuracy_perceptron[i]\n",
        "          chkpt_w = self.w\n",
        "          chkpt_b = self.b\n",
        "\n",
        "      self.w = chkpt_w\n",
        "      self.b = chkpt_b\n",
        "      \n",
        "\n",
        "      plt.plot(accuracy_perceptron)\n",
        "      plt.ylim([0,1])\n",
        "      plt.show() \n",
        "      print('Maximum Accuracy = ', max_accuracy_perceptron)"
      ],
      "execution_count": 52,
      "outputs": []
    },
    {
      "cell_type": "code",
      "metadata": {
        "colab_type": "code",
        "id": "oz5YJ2N5pE2y",
        "colab": {
          "base_uri": "https://localhost:8080/",
          "height": 289
        },
        "outputId": "0f699287-0dcb-4110-86cd-2d8a84cd5ebe"
      },
      "source": [
        "perceptron = Perceptron()\n",
        "perceptron.fit(X_train_Normalized,Y_train, 1000, .1)"
      ],
      "execution_count": 46,
      "outputs": [
        {
          "output_type": "stream",
          "text": [
            "Maximum Accuracy =  0.9314814814814815\n"
          ],
          "name": "stdout"
        },
        {
          "output_type": "display_data",
          "data": {
            "image/png": "[encoded data removed]",
            "text/plain": [
              "<Figure size 432x288 with 1 Axes>"
            ]
          },
          "metadata": {
            "tags": []
          }
        }
      ]
    },
    {
      "cell_type": "markdown",
      "metadata": {
        "id": "zArNkNJgqHP1",
        "colab_type": "text"
      },
      "source": [
        "Though the accuraccy is still oscillating. The value of accuracy did not change drastically and the max accuracy is higher for the same number of epochs. This is because as the learning rate is reduced $W$ found a better value which was earlier skipped by the learning algorithm due large step size."
      ]
    },
    {
      "cell_type": "markdown",
      "metadata": {
        "id": "utBRDcCA5ahv",
        "colab_type": "text"
      },
      "source": [
        "#**Hyper Parameters**"
      ]
    },
    {
      "cell_type": "markdown",
      "metadata": {
        "id": "fVzCmDqG4fcL",
        "colab_type": "text"
      },
      "source": [
        "The parameter which indirectly affect the model's accuracy is called as hyperparameter. We have already seen two hyperparameters:\n",
        "\n",
        "1. Number of Epochs\n",
        "\n",
        "2. Learning rate\n",
        "\n",
        "These parameters are often set manually by experience and guessing. There is no generalized rule to decide the values of these parameters. \n",
        "\n",
        "* Though we can conclude that increasing epochs will give better accuracy. But after certain number of epochs the change in maximum accuracy is not significant or no change at all. But making the model run for these many epochs increase the computing time.\n",
        "\n",
        "* In case of learning rate decreasing the learing rate too much may lead to lesser accuracy also.\n",
        "\n"
      ]
    },
    {
      "cell_type": "code",
      "metadata": {
        "id": "IfdyFx33u2Gl",
        "colab_type": "code",
        "colab": {}
      },
      "source": [
        "import time"
      ],
      "execution_count": 48,
      "outputs": []
    },
    {
      "cell_type": "code",
      "metadata": {
        "colab_type": "code",
        "id": "3ita7XDpuQd_",
        "colab": {
          "base_uri": "https://localhost:8080/",
          "height": 339
        },
        "outputId": "22a20b0e-e574-4bf4-8e4a-9061132e84e2"
      },
      "source": [
        "perceptron = Perceptron()\n",
        "tic = time.time()\n",
        "perceptron.fit(X_train_Normalized,Y_train, 100, 1)\n",
        "toc = time.time()\n",
        "Y_pred_test = perceptron.predict(X_test_Normalized)\n",
        "print('Test accuracy = ',accuracy_score(Y_pred_test,Y_test))\n",
        "print('')\n",
        "print('Time consumed = ',toc - tic)"
      ],
      "execution_count": 63,
      "outputs": [
        {
          "output_type": "display_data",
          "data": {
            "image/png": "[encoded data removed]",
            "text/plain": [
              "<Figure size 432x288 with 1 Axes>"
            ]
          },
          "metadata": {
            "tags": []
          }
        },
        {
          "output_type": "stream",
          "text": [
            "Maximum Accuracy =  0.9277777777777778\n",
            "Test accuracy =  0.896551724137931\n",
            "\n",
            "Time consumed =  0.49364376068115234\n"
          ],
          "name": "stdout"
        }
      ]
    },
    {
      "cell_type": "code",
      "metadata": {
        "id": "I1Q7ZW49uk5a",
        "colab_type": "code",
        "colab": {
          "base_uri": "https://localhost:8080/",
          "height": 339
        },
        "outputId": "9339be5c-aa3b-4eb4-e652-701569103de1"
      },
      "source": [
        "tic = time.time()\n",
        "perceptron.fit(X_train_Normalized,Y_train, 1000, 1)\n",
        "toc = time.time()\n",
        "Y_pred_test = perceptron.predict(X_test_Normalized)\n",
        "print('Test accuracy = ',accuracy_score(Y_pred_test,Y_test))\n",
        "print('')\n",
        "print('Time consumed = ',toc - tic)"
      ],
      "execution_count": 64,
      "outputs": [
        {
          "output_type": "display_data",
          "data": {
            "image/png": "[encoded data removed]",
            "text/plain": [
              "<Figure size 432x288 with 1 Axes>"
            ]
          },
          "metadata": {
            "tags": []
          }
        },
        {
          "output_type": "stream",
          "text": [
            "Maximum Accuracy =  0.9277777777777778\n",
            "Test accuracy =  0.896551724137931\n",
            "\n",
            "Time consumed =  2.8260200023651123\n"
          ],
          "name": "stdout"
        }
      ]
    },
    {
      "cell_type": "code",
      "metadata": {
        "id": "MYsDsFflvXpe",
        "colab_type": "code",
        "colab": {
          "base_uri": "https://localhost:8080/",
          "height": 339
        },
        "outputId": "110f0c86-c2f7-43a0-8ee4-189b56bc3508"
      },
      "source": [
        "tic = time.time()\n",
        "perceptron.fit(X_train_Normalized,Y_train, 10000, 1)\n",
        "toc = time.time()\n",
        "Y_pred_test = perceptron.predict(X_test_Normalized)\n",
        "print('Test accuracy = ',accuracy_score(Y_pred_test,Y_test))\n",
        "print('')\n",
        "print('Time consumed = ',toc - tic)\n"
      ],
      "execution_count": 66,
      "outputs": [
        {
          "output_type": "display_data",
          "data": {
            "image/png": "[encoded data removed]",
            "text/plain": [
              "<Figure size 432x288 with 1 Axes>"
            ]
          },
          "metadata": {
            "tags": []
          }
        },
        {
          "output_type": "stream",
          "text": [
            "Maximum Accuracy =  0.9444444444444444\n",
            "Test accuracy =  0.9310344827586207\n",
            "\n",
            "Time consumed =  26.42925190925598\n"
          ],
          "name": "stdout"
        }
      ]
    },
    {
      "cell_type": "code",
      "metadata": {
        "id": "45mzPAY3wDGE",
        "colab_type": "code",
        "colab": {
          "base_uri": "https://localhost:8080/",
          "height": 339
        },
        "outputId": "4fa865dc-27b7-436d-b747-d22c6c85fa69"
      },
      "source": [
        "tic = time.time()\n",
        "perceptron.fit(X_train_Normalized,Y_train, 100000, 1)\n",
        "toc = time.time()\n",
        "Y_pred_test = perceptron.predict(X_test_Normalized)\n",
        "print('Test accuracy = ',accuracy_score(Y_pred_test,Y_test))\n",
        "print('')\n",
        "print('Time consumed = ',toc - tic)"
      ],
      "execution_count": 67,
      "outputs": [
        {
          "output_type": "display_data",
          "data": {
            "image/png": "[encoded data removed]",
            "text/plain": [
              "<Figure size 432x288 with 1 Axes>"
            ]
          },
          "metadata": {
            "tags": []
          }
        },
        {
          "output_type": "stream",
          "text": [
            "Maximum Accuracy =  0.9648148148148148\n",
            "Test accuracy =  0.9655172413793104\n",
            "\n",
            "Time consumed =  254.67061471939087\n"
          ],
          "name": "stdout"
        }
      ]
    },
    {
      "cell_type": "markdown",
      "metadata": {
        "id": "4qDn7yxtv3a2",
        "colab_type": "text"
      },
      "source": [
        "Though the accuracy increases but the time it taken increases significantly. So choose the number of epochs according to the need."
      ]
    },
    {
      "cell_type": "code",
      "metadata": {
        "id": "kINon35-vbEV",
        "colab_type": "code",
        "colab": {
          "base_uri": "https://localhost:8080/",
          "height": 356
        },
        "outputId": "eaa6450f-4f51-45e2-a3f4-465aa4cd40fc"
      },
      "source": [
        "tic = time.time()\n",
        "perceptron.fit(X_train_Normalized,Y_train, 100000, 0.1)\n",
        "toc = time.time()\n",
        "Y_pred_test = perceptron.predict(X_test_Normalized)\n",
        "print('Test accuracy = ',accuracy_score(Y_pred_test,Y_test))\n",
        "print('')\n",
        "print('Time consumed = ',toc - tic)"
      ],
      "execution_count": 69,
      "outputs": [
        {
          "output_type": "display_data",
          "data": {
            "image/png": "[encoded data removed]",
            "text/plain": [
              "<Figure size 432x288 with 1 Axes>"
            ]
          },
          "metadata": {
            "tags": []
          }
        },
        {
          "output_type": "stream",
          "text": [
            "Maximum Accuracy =  0.9648148148148148\n",
            "Time consumed =  239.16428446769714\n",
            "Test accuracy =  0.9310344827586207\n",
            "\n",
            "Time consumed =  239.16428446769714\n"
          ],
          "name": "stdout"
        }
      ]
    },
    {
      "cell_type": "code",
      "metadata": {
        "id": "KTzuj1GpxgiE",
        "colab_type": "code",
        "colab": {
          "base_uri": "https://localhost:8080/",
          "height": 356
        },
        "outputId": "f3f69b05-a991-4c1a-956e-fce838150565"
      },
      "source": [
        "tic = time.time()\n",
        "perceptron.fit(X_train_Normalized,Y_train, 100000, 0.001)\n",
        "toc = time.time()\n",
        "Y_pred_test = perceptron.predict(X_test_Normalized)\n",
        "print('Test accuracy = ',accuracy_score(Y_pred_test,Y_test))\n",
        "print('')\n",
        "print('Time consumed = ',toc - tic)"
      ],
      "execution_count": 70,
      "outputs": [
        {
          "output_type": "display_data",
          "data": {
            "image/png": "[encoded data removed]",
            "text/plain": [
              "<Figure size 432x288 with 1 Axes>"
            ]
          },
          "metadata": {
            "tags": []
          }
        },
        {
          "output_type": "stream",
          "text": [
            "Maximum Accuracy =  0.9574074074074074\n",
            "Time consumed =  236.33842062950134\n",
            "Test accuracy =  0.9310344827586207\n",
            "\n",
            "Time consumed =  236.33842062950134\n"
          ],
          "name": "stdout"
        }
      ]
    },
    {
      "cell_type": "markdown",
      "metadata": {
        "id": "r9UuyLjA75AS",
        "colab_type": "text"
      },
      "source": [
        "We can see that the model has better accuracy for lr = 1 and slightly less for lr =  0.1, and significantly lesser for lr = 0.001.\n",
        "\n",
        "But decreasing lr is advantageous when the number epochs is lesses"
      ]
    },
    {
      "cell_type": "code",
      "metadata": {
        "id": "2HQ9U4xJ35nR",
        "colab_type": "code",
        "colab": {
          "base_uri": "https://localhost:8080/",
          "height": 339
        },
        "outputId": "8d87f308-31f0-4ad7-9144-a815a0a41475"
      },
      "source": [
        "tic = time.time()\n",
        "perceptron.fit(X_train_Normalized,Y_train, 100, 1)\n",
        "toc = time.time()\n",
        "Y_pred_test = perceptron.predict(X_test_Normalized)\n",
        "print('Test accuracy = ',accuracy_score(Y_pred_test,Y_test))\n",
        "print('')\n",
        "print('Time consumed = ',toc - tic)"
      ],
      "execution_count": 72,
      "outputs": [
        {
          "output_type": "display_data",
          "data": {
            "image/png": "[encoded data removed]",
            "text/plain": [
              "<Figure size 432x288 with 1 Axes>"
            ]
          },
          "metadata": {
            "tags": []
          }
        },
        {
          "output_type": "stream",
          "text": [
            "Maximum Accuracy =  0.9277777777777778\n",
            "Test accuracy =  0.896551724137931\n",
            "\n",
            "Time consumed =  0.49135899543762207\n"
          ],
          "name": "stdout"
        }
      ]
    },
    {
      "cell_type": "code",
      "metadata": {
        "id": "dh_doQA68kDD",
        "colab_type": "code",
        "colab": {
          "base_uri": "https://localhost:8080/",
          "height": 339
        },
        "outputId": "89f87dd4-f5e0-4acf-d7b2-4ea69f6e3511"
      },
      "source": [
        "tic = time.time()\n",
        "perceptron.fit(X_train_Normalized,Y_train, 100, 0.1)\n",
        "toc = time.time()\n",
        "Y_pred_test = perceptron.predict(X_test_Normalized)\n",
        "print('Test accuracy = ',accuracy_score(Y_pred_test,Y_test))\n",
        "print('')\n",
        "print('Time consumed = ',toc - tic)"
      ],
      "execution_count": 73,
      "outputs": [
        {
          "output_type": "display_data",
          "data": {
            "image/png": "[encoded data removed]",
            "text/plain": [
              "<Figure size 432x288 with 1 Axes>"
            ]
          },
          "metadata": {
            "tags": []
          }
        },
        {
          "output_type": "stream",
          "text": [
            "Maximum Accuracy =  0.9296296296296296\n",
            "Test accuracy =  0.896551724137931\n",
            "\n",
            "Time consumed =  0.4729588031768799\n"
          ],
          "name": "stdout"
        }
      ]
    },
    {
      "cell_type": "code",
      "metadata": {
        "id": "Rjzhwlai80Cd",
        "colab_type": "code",
        "colab": {
          "base_uri": "https://localhost:8080/",
          "height": 339
        },
        "outputId": "2b3c235a-85e8-4631-dcb5-8bc6396c4d01"
      },
      "source": [
        "tic = time.time()\n",
        "perceptron.fit(X_train_Normalized,Y_train, 100, 0.01)\n",
        "toc = time.time()\n",
        "Y_pred_test = perceptron.predict(X_test_Normalized)\n",
        "print('Test accuracy = ',accuracy_score(Y_pred_test,Y_test))\n",
        "print('')\n",
        "print('Time consumed = ',toc - tic)"
      ],
      "execution_count": 74,
      "outputs": [
        {
          "output_type": "display_data",
          "data": {
            "image/png": "[encoded data removed]",
            "text/plain": [
              "<Figure size 432x288 with 1 Axes>"
            ]
          },
          "metadata": {
            "tags": []
          }
        },
        {
          "output_type": "stream",
          "text": [
            "Maximum Accuracy =  0.8944444444444445\n",
            "Test accuracy =  0.896551724137931\n",
            "\n",
            "Time consumed =  0.47399306297302246\n"
          ],
          "name": "stdout"
        }
      ]
    },
    {
      "cell_type": "code",
      "metadata": {
        "id": "bsbeyKJn83bb",
        "colab_type": "code",
        "colab": {
          "base_uri": "https://localhost:8080/",
          "height": 339
        },
        "outputId": "2a92c916-6428-4993-bdac-f6aaf5917c43"
      },
      "source": [
        "tic = time.time()\n",
        "perceptron.fit(X_train_Normalized,Y_train, 100, 0.001)\n",
        "toc = time.time()\n",
        "Y_pred_test = perceptron.predict(X_test_Normalized)\n",
        "print('Test accuracy = ',accuracy_score(Y_pred_test,Y_test))\n",
        "print('')\n",
        "print('Time consumed = ',toc - tic)"
      ],
      "execution_count": 75,
      "outputs": [
        {
          "output_type": "display_data",
          "data": {
            "image/png": "[encoded data removed]",
            "text/plain": [
              "<Figure size 432x288 with 1 Axes>"
            ]
          },
          "metadata": {
            "tags": []
          }
        },
        {
          "output_type": "stream",
          "text": [
            "Maximum Accuracy =  0.8962962962962963\n",
            "Test accuracy =  0.896551724137931\n",
            "\n",
            "Time consumed =  0.5636796951293945\n"
          ],
          "name": "stdout"
        }
      ]
    },
    {
      "cell_type": "markdown",
      "metadata": {
        "id": "EQG0m4519L7U",
        "colab_type": "text"
      },
      "source": [
        "We can see that the model with lesser lr is more consistent."
      ]
    }
  ]
}